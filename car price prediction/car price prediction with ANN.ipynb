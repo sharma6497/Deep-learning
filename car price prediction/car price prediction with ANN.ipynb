{
 "cells": [
  {
   "cell_type": "code",
   "execution_count": 1,
   "id": "ordinary-enough",
   "metadata": {
    "execution": {
     "iopub.execute_input": "2021-07-18T07:22:02.842392Z",
     "iopub.status.busy": "2021-07-18T07:22:02.841585Z",
     "iopub.status.idle": "2021-07-18T07:22:03.692652Z",
     "shell.execute_reply": "2021-07-18T07:22:03.692097Z",
     "shell.execute_reply.started": "2021-07-18T07:18:04.711881Z"
    },
    "papermill": {
     "duration": 0.941536,
     "end_time": "2021-07-18T07:22:03.692812",
     "exception": false,
     "start_time": "2021-07-18T07:22:02.751276",
     "status": "completed"
    },
    "tags": []
   },
   "outputs": [],
   "source": [
    "import numpy as np\n",
    "import pandas as pd\n",
    "import matplotlib.pyplot as plt\n",
    "import seaborn as sns"
   ]
  },
  {
   "cell_type": "markdown",
   "id": "attractive-vancouver",
   "metadata": {
    "papermill": {
     "duration": 0.084156,
     "end_time": "2021-07-18T07:22:03.863424",
     "exception": false,
     "start_time": "2021-07-18T07:22:03.779268",
     "status": "completed"
    },
    "tags": []
   },
   "source": [
    "## Reading csv"
   ]
  },
  {
   "cell_type": "code",
   "execution_count": 2,
   "id": "civilian-danger",
   "metadata": {
    "execution": {
     "iopub.execute_input": "2021-07-18T07:22:04.061259Z",
     "iopub.status.busy": "2021-07-18T07:22:04.060558Z",
     "iopub.status.idle": "2021-07-18T07:22:04.201158Z",
     "shell.execute_reply": "2021-07-18T07:22:04.200624Z",
     "shell.execute_reply.started": "2021-07-18T07:18:04.857780Z"
    },
    "papermill": {
     "duration": 0.233193,
     "end_time": "2021-07-18T07:22:04.201349",
     "exception": false,
     "start_time": "2021-07-18T07:22:03.968156",
     "status": "completed"
    },
    "tags": []
   },
   "outputs": [
    {
     "data": {
      "text/html": [
       "<div>\n",
       "<style scoped>\n",
       "    .dataframe tbody tr th:only-of-type {\n",
       "        vertical-align: middle;\n",
       "    }\n",
       "\n",
       "    .dataframe tbody tr th {\n",
       "        vertical-align: top;\n",
       "    }\n",
       "\n",
       "    .dataframe thead th {\n",
       "        text-align: right;\n",
       "    }\n",
       "</style>\n",
       "<table border=\"1\" class=\"dataframe\">\n",
       "  <thead>\n",
       "    <tr style=\"text-align: right;\">\n",
       "      <th></th>\n",
       "      <th>ID</th>\n",
       "      <th>Price</th>\n",
       "      <th>Levy</th>\n",
       "      <th>Manufacturer</th>\n",
       "      <th>Model</th>\n",
       "      <th>Prod. year</th>\n",
       "      <th>Category</th>\n",
       "      <th>Leather interior</th>\n",
       "      <th>Fuel type</th>\n",
       "      <th>Engine volume</th>\n",
       "      <th>Mileage</th>\n",
       "      <th>Cylinders</th>\n",
       "      <th>Gear box type</th>\n",
       "      <th>Drive wheels</th>\n",
       "      <th>Doors</th>\n",
       "      <th>Wheel</th>\n",
       "      <th>Color</th>\n",
       "      <th>Airbags</th>\n",
       "    </tr>\n",
       "  </thead>\n",
       "  <tbody>\n",
       "    <tr>\n",
       "      <th>0</th>\n",
       "      <td>45654403</td>\n",
       "      <td>13328</td>\n",
       "      <td>1399</td>\n",
       "      <td>LEXUS</td>\n",
       "      <td>RX 450</td>\n",
       "      <td>2010</td>\n",
       "      <td>Jeep</td>\n",
       "      <td>Yes</td>\n",
       "      <td>Hybrid</td>\n",
       "      <td>3.5</td>\n",
       "      <td>186005 km</td>\n",
       "      <td>6.0</td>\n",
       "      <td>Automatic</td>\n",
       "      <td>4x4</td>\n",
       "      <td>04-May</td>\n",
       "      <td>Left wheel</td>\n",
       "      <td>Silver</td>\n",
       "      <td>12</td>\n",
       "    </tr>\n",
       "    <tr>\n",
       "      <th>1</th>\n",
       "      <td>44731507</td>\n",
       "      <td>16621</td>\n",
       "      <td>1018</td>\n",
       "      <td>CHEVROLET</td>\n",
       "      <td>Equinox</td>\n",
       "      <td>2011</td>\n",
       "      <td>Jeep</td>\n",
       "      <td>No</td>\n",
       "      <td>Petrol</td>\n",
       "      <td>3</td>\n",
       "      <td>192000 km</td>\n",
       "      <td>6.0</td>\n",
       "      <td>Tiptronic</td>\n",
       "      <td>4x4</td>\n",
       "      <td>04-May</td>\n",
       "      <td>Left wheel</td>\n",
       "      <td>Black</td>\n",
       "      <td>8</td>\n",
       "    </tr>\n",
       "    <tr>\n",
       "      <th>2</th>\n",
       "      <td>45774419</td>\n",
       "      <td>8467</td>\n",
       "      <td>-</td>\n",
       "      <td>HONDA</td>\n",
       "      <td>FIT</td>\n",
       "      <td>2006</td>\n",
       "      <td>Hatchback</td>\n",
       "      <td>No</td>\n",
       "      <td>Petrol</td>\n",
       "      <td>1.3</td>\n",
       "      <td>200000 km</td>\n",
       "      <td>4.0</td>\n",
       "      <td>Variator</td>\n",
       "      <td>Front</td>\n",
       "      <td>04-May</td>\n",
       "      <td>Right-hand drive</td>\n",
       "      <td>Black</td>\n",
       "      <td>2</td>\n",
       "    </tr>\n",
       "    <tr>\n",
       "      <th>3</th>\n",
       "      <td>45769185</td>\n",
       "      <td>3607</td>\n",
       "      <td>862</td>\n",
       "      <td>FORD</td>\n",
       "      <td>Escape</td>\n",
       "      <td>2011</td>\n",
       "      <td>Jeep</td>\n",
       "      <td>Yes</td>\n",
       "      <td>Hybrid</td>\n",
       "      <td>2.5</td>\n",
       "      <td>168966 km</td>\n",
       "      <td>4.0</td>\n",
       "      <td>Automatic</td>\n",
       "      <td>4x4</td>\n",
       "      <td>04-May</td>\n",
       "      <td>Left wheel</td>\n",
       "      <td>White</td>\n",
       "      <td>0</td>\n",
       "    </tr>\n",
       "    <tr>\n",
       "      <th>4</th>\n",
       "      <td>45809263</td>\n",
       "      <td>11726</td>\n",
       "      <td>446</td>\n",
       "      <td>HONDA</td>\n",
       "      <td>FIT</td>\n",
       "      <td>2014</td>\n",
       "      <td>Hatchback</td>\n",
       "      <td>Yes</td>\n",
       "      <td>Petrol</td>\n",
       "      <td>1.3</td>\n",
       "      <td>91901 km</td>\n",
       "      <td>4.0</td>\n",
       "      <td>Automatic</td>\n",
       "      <td>Front</td>\n",
       "      <td>04-May</td>\n",
       "      <td>Left wheel</td>\n",
       "      <td>Silver</td>\n",
       "      <td>4</td>\n",
       "    </tr>\n",
       "  </tbody>\n",
       "</table>\n",
       "</div>"
      ],
      "text/plain": [
       "         ID  Price  Levy Manufacturer    Model  Prod. year   Category  \\\n",
       "0  45654403  13328  1399        LEXUS   RX 450        2010       Jeep   \n",
       "1  44731507  16621  1018    CHEVROLET  Equinox        2011       Jeep   \n",
       "2  45774419   8467     -        HONDA      FIT        2006  Hatchback   \n",
       "3  45769185   3607   862         FORD   Escape        2011       Jeep   \n",
       "4  45809263  11726   446        HONDA      FIT        2014  Hatchback   \n",
       "\n",
       "  Leather interior Fuel type Engine volume    Mileage  Cylinders  \\\n",
       "0              Yes    Hybrid           3.5  186005 km        6.0   \n",
       "1               No    Petrol             3  192000 km        6.0   \n",
       "2               No    Petrol           1.3  200000 km        4.0   \n",
       "3              Yes    Hybrid           2.5  168966 km        4.0   \n",
       "4              Yes    Petrol           1.3   91901 km        4.0   \n",
       "\n",
       "  Gear box type Drive wheels   Doors             Wheel   Color  Airbags  \n",
       "0     Automatic          4x4  04-May        Left wheel  Silver       12  \n",
       "1     Tiptronic          4x4  04-May        Left wheel   Black        8  \n",
       "2      Variator        Front  04-May  Right-hand drive   Black        2  \n",
       "3     Automatic          4x4  04-May        Left wheel   White        0  \n",
       "4     Automatic        Front  04-May        Left wheel  Silver        4  "
      ]
     },
     "execution_count": 2,
     "metadata": {},
     "output_type": "execute_result"
    }
   ],
   "source": [
    "df_train=pd.read_csv('train.csv')\n",
    "df_train.head()"
   ]
  },
  {
   "cell_type": "code",
   "execution_count": 3,
   "id": "theoretical-furniture",
   "metadata": {
    "execution": {
     "iopub.execute_input": "2021-07-18T07:22:04.374571Z",
     "iopub.status.busy": "2021-07-18T07:22:04.373886Z",
     "iopub.status.idle": "2021-07-18T07:22:04.376674Z",
     "shell.execute_reply": "2021-07-18T07:22:04.377252Z",
     "shell.execute_reply.started": "2021-07-18T07:18:04.940442Z"
    },
    "papermill": {
     "duration": 0.090662,
     "end_time": "2021-07-18T07:22:04.377420",
     "exception": false,
     "start_time": "2021-07-18T07:22:04.286758",
     "status": "completed"
    },
    "tags": []
   },
   "outputs": [
    {
     "data": {
      "text/plain": [
       "(19237, 18)"
      ]
     },
     "execution_count": 3,
     "metadata": {},
     "output_type": "execute_result"
    }
   ],
   "source": [
    "df_train.shape"
   ]
  },
  {
   "cell_type": "code",
   "execution_count": 4,
   "id": "occasional-affiliation",
   "metadata": {
    "execution": {
     "iopub.execute_input": "2021-07-18T07:22:04.549879Z",
     "iopub.status.busy": "2021-07-18T07:22:04.549172Z",
     "iopub.status.idle": "2021-07-18T07:22:04.618757Z",
     "shell.execute_reply": "2021-07-18T07:22:04.618082Z",
     "shell.execute_reply.started": "2021-07-18T07:18:05.082930Z"
    },
    "papermill": {
     "duration": 0.158042,
     "end_time": "2021-07-18T07:22:04.618912",
     "exception": false,
     "start_time": "2021-07-18T07:22:04.460870",
     "status": "completed"
    },
    "tags": []
   },
   "outputs": [
    {
     "data": {
      "text/html": [
       "<div>\n",
       "<style scoped>\n",
       "    .dataframe tbody tr th:only-of-type {\n",
       "        vertical-align: middle;\n",
       "    }\n",
       "\n",
       "    .dataframe tbody tr th {\n",
       "        vertical-align: top;\n",
       "    }\n",
       "\n",
       "    .dataframe thead th {\n",
       "        text-align: right;\n",
       "    }\n",
       "</style>\n",
       "<table border=\"1\" class=\"dataframe\">\n",
       "  <thead>\n",
       "    <tr style=\"text-align: right;\">\n",
       "      <th></th>\n",
       "      <th>ID</th>\n",
       "      <th>Levy</th>\n",
       "      <th>Manufacturer</th>\n",
       "      <th>Model</th>\n",
       "      <th>Prod. year</th>\n",
       "      <th>Category</th>\n",
       "      <th>Leather interior</th>\n",
       "      <th>Fuel type</th>\n",
       "      <th>Engine volume</th>\n",
       "      <th>Mileage</th>\n",
       "      <th>Cylinders</th>\n",
       "      <th>Gear box type</th>\n",
       "      <th>Drive wheels</th>\n",
       "      <th>Doors</th>\n",
       "      <th>Wheel</th>\n",
       "      <th>Color</th>\n",
       "      <th>Airbags</th>\n",
       "      <th>Price</th>\n",
       "    </tr>\n",
       "  </thead>\n",
       "  <tbody>\n",
       "    <tr>\n",
       "      <th>0</th>\n",
       "      <td>44020629</td>\n",
       "      <td>-</td>\n",
       "      <td>VOLKSWAGEN</td>\n",
       "      <td>Golf</td>\n",
       "      <td>2012</td>\n",
       "      <td>Hatchback</td>\n",
       "      <td>No</td>\n",
       "      <td>Diesel</td>\n",
       "      <td>2.0 Turbo</td>\n",
       "      <td>0 km</td>\n",
       "      <td>4</td>\n",
       "      <td>Manual</td>\n",
       "      <td>Front</td>\n",
       "      <td>02-Mar</td>\n",
       "      <td>Left wheel</td>\n",
       "      <td>Grey</td>\n",
       "      <td>10</td>\n",
       "      <td>NaN</td>\n",
       "    </tr>\n",
       "    <tr>\n",
       "      <th>1</th>\n",
       "      <td>45784798</td>\n",
       "      <td>-</td>\n",
       "      <td>HYUNDAI</td>\n",
       "      <td>Sonata</td>\n",
       "      <td>2012</td>\n",
       "      <td>Sedan</td>\n",
       "      <td>Yes</td>\n",
       "      <td>Petrol</td>\n",
       "      <td>2.4</td>\n",
       "      <td>26000 km</td>\n",
       "      <td>4</td>\n",
       "      <td>Tiptronic</td>\n",
       "      <td>Front</td>\n",
       "      <td>04-May</td>\n",
       "      <td>Left wheel</td>\n",
       "      <td>Grey</td>\n",
       "      <td>10</td>\n",
       "      <td>NaN</td>\n",
       "    </tr>\n",
       "    <tr>\n",
       "      <th>2</th>\n",
       "      <td>45800257</td>\n",
       "      <td>-</td>\n",
       "      <td>NISSAN</td>\n",
       "      <td>Tiida</td>\n",
       "      <td>2005</td>\n",
       "      <td>Sedan</td>\n",
       "      <td>No</td>\n",
       "      <td>Petrol</td>\n",
       "      <td>1.5</td>\n",
       "      <td>168000 km</td>\n",
       "      <td>4</td>\n",
       "      <td>Automatic</td>\n",
       "      <td>Front</td>\n",
       "      <td>04-May</td>\n",
       "      <td>Right-hand drive</td>\n",
       "      <td>Sky blue</td>\n",
       "      <td>8</td>\n",
       "      <td>NaN</td>\n",
       "    </tr>\n",
       "    <tr>\n",
       "      <th>3</th>\n",
       "      <td>45797981</td>\n",
       "      <td>975</td>\n",
       "      <td>VOLVO</td>\n",
       "      <td>XC90</td>\n",
       "      <td>2012</td>\n",
       "      <td>Jeep</td>\n",
       "      <td>Yes</td>\n",
       "      <td>Petrol</td>\n",
       "      <td>3.2</td>\n",
       "      <td>143000 km</td>\n",
       "      <td>6</td>\n",
       "      <td>Automatic</td>\n",
       "      <td>4x4</td>\n",
       "      <td>04-May</td>\n",
       "      <td>Left wheel</td>\n",
       "      <td>Blue</td>\n",
       "      <td>12</td>\n",
       "      <td>NaN</td>\n",
       "    </tr>\n",
       "    <tr>\n",
       "      <th>4</th>\n",
       "      <td>45814303</td>\n",
       "      <td>-</td>\n",
       "      <td>OPEL</td>\n",
       "      <td>Astra</td>\n",
       "      <td>1993</td>\n",
       "      <td>Hatchback</td>\n",
       "      <td>No</td>\n",
       "      <td>Petrol</td>\n",
       "      <td>1.6</td>\n",
       "      <td>200000 km</td>\n",
       "      <td>4</td>\n",
       "      <td>Manual</td>\n",
       "      <td>Front</td>\n",
       "      <td>04-May</td>\n",
       "      <td>Left wheel</td>\n",
       "      <td>Black</td>\n",
       "      <td>0</td>\n",
       "      <td>NaN</td>\n",
       "    </tr>\n",
       "  </tbody>\n",
       "</table>\n",
       "</div>"
      ],
      "text/plain": [
       "         ID Levy Manufacturer   Model  Prod. year   Category Leather interior  \\\n",
       "0  44020629    -   VOLKSWAGEN    Golf        2012  Hatchback               No   \n",
       "1  45784798    -      HYUNDAI  Sonata        2012      Sedan              Yes   \n",
       "2  45800257    -       NISSAN   Tiida        2005      Sedan               No   \n",
       "3  45797981  975        VOLVO    XC90        2012       Jeep              Yes   \n",
       "4  45814303    -         OPEL   Astra        1993  Hatchback               No   \n",
       "\n",
       "  Fuel type Engine volume    Mileage  Cylinders Gear box type Drive wheels  \\\n",
       "0    Diesel     2.0 Turbo       0 km          4        Manual        Front   \n",
       "1    Petrol           2.4   26000 km          4     Tiptronic        Front   \n",
       "2    Petrol           1.5  168000 km          4     Automatic        Front   \n",
       "3    Petrol           3.2  143000 km          6     Automatic          4x4   \n",
       "4    Petrol           1.6  200000 km          4        Manual        Front   \n",
       "\n",
       "    Doors             Wheel     Color  Airbags  Price  \n",
       "0  02-Mar        Left wheel      Grey       10    NaN  \n",
       "1  04-May        Left wheel      Grey       10    NaN  \n",
       "2  04-May  Right-hand drive  Sky blue        8    NaN  \n",
       "3  04-May        Left wheel      Blue       12    NaN  \n",
       "4  04-May        Left wheel     Black        0    NaN  "
      ]
     },
     "execution_count": 4,
     "metadata": {},
     "output_type": "execute_result"
    }
   ],
   "source": [
    "df_test=pd.read_csv('test.csv')\n",
    "df_test.head()"
   ]
  },
  {
   "cell_type": "code",
   "execution_count": 5,
   "id": "destroyed-appearance",
   "metadata": {
    "execution": {
     "iopub.execute_input": "2021-07-18T07:22:04.802329Z",
     "iopub.status.busy": "2021-07-18T07:22:04.801612Z",
     "iopub.status.idle": "2021-07-18T07:22:04.805554Z",
     "shell.execute_reply": "2021-07-18T07:22:04.806031Z",
     "shell.execute_reply.started": "2021-07-18T07:18:05.176724Z"
    },
    "papermill": {
     "duration": 0.103253,
     "end_time": "2021-07-18T07:22:04.806203",
     "exception": false,
     "start_time": "2021-07-18T07:22:04.702950",
     "status": "completed"
    },
    "tags": []
   },
   "outputs": [
    {
     "data": {
      "text/plain": [
       "HYUNDAI          3769\n",
       "TOYOTA           3662\n",
       "MERCEDES-BENZ    2076\n",
       "FORD             1111\n",
       "CHEVROLET        1069\n",
       "                 ... \n",
       "LAMBORGHINI         1\n",
       "LANCIA              1\n",
       "GREATWALL           1\n",
       "HAVAL               1\n",
       "PONTIAC             1\n",
       "Name: Manufacturer, Length: 65, dtype: int64"
      ]
     },
     "execution_count": 5,
     "metadata": {},
     "output_type": "execute_result"
    }
   ],
   "source": [
    "df_train['Manufacturer'].value_counts()"
   ]
  },
  {
   "cell_type": "code",
   "execution_count": 6,
   "id": "indian-wellington",
   "metadata": {
    "execution": {
     "iopub.execute_input": "2021-07-18T07:22:04.982207Z",
     "iopub.status.busy": "2021-07-18T07:22:04.981520Z",
     "iopub.status.idle": "2021-07-18T07:22:04.991476Z",
     "shell.execute_reply": "2021-07-18T07:22:04.990840Z",
     "shell.execute_reply.started": "2021-07-18T07:18:05.314912Z"
    },
    "papermill": {
     "duration": 0.101175,
     "end_time": "2021-07-18T07:22:04.991612",
     "exception": false,
     "start_time": "2021-07-18T07:22:04.890437",
     "status": "completed"
    },
    "tags": []
   },
   "outputs": [
    {
     "data": {
      "text/plain": [
       "Manufacturer\n",
       "ACURA             5910.933333\n",
       "ALFA ROMEO        9890.250000\n",
       "ASTON MARTIN     54000.000000\n",
       "AUDI             14106.545098\n",
       "BENTLEY         197574.500000\n",
       "                    ...      \n",
       "VAZ               4613.583333\n",
       "VOLKSWAGEN       11640.421416\n",
       "VOLVO            10278.894737\n",
       "ZAZ               3822.500000\n",
       "სხვა             17248.500000\n",
       "Name: Price, Length: 65, dtype: float64"
      ]
     },
     "execution_count": 6,
     "metadata": {},
     "output_type": "execute_result"
    }
   ],
   "source": [
    "df_train.groupby('Manufacturer')['Price'].mean()"
   ]
  },
  {
   "cell_type": "markdown",
   "id": "favorite-variation",
   "metadata": {
    "papermill": {
     "duration": 0.085396,
     "end_time": "2021-07-18T07:22:05.161829",
     "exception": false,
     "start_time": "2021-07-18T07:22:05.076433",
     "status": "completed"
    },
    "tags": []
   },
   "source": [
    "## Inspecting data"
   ]
  },
  {
   "cell_type": "code",
   "execution_count": 7,
   "id": "incredible-movement",
   "metadata": {
    "execution": {
     "iopub.execute_input": "2021-07-18T07:22:05.336428Z",
     "iopub.status.busy": "2021-07-18T07:22:05.335821Z",
     "iopub.status.idle": "2021-07-18T07:22:05.374683Z",
     "shell.execute_reply": "2021-07-18T07:22:05.375334Z",
     "shell.execute_reply.started": "2021-07-18T07:18:05.425741Z"
    },
    "papermill": {
     "duration": 0.127415,
     "end_time": "2021-07-18T07:22:05.375512",
     "exception": false,
     "start_time": "2021-07-18T07:22:05.248097",
     "status": "completed"
    },
    "tags": []
   },
   "outputs": [
    {
     "name": "stdout",
     "output_type": "stream",
     "text": [
      "<class 'pandas.core.frame.DataFrame'>\n",
      "RangeIndex: 19237 entries, 0 to 19236\n",
      "Data columns (total 18 columns):\n",
      " #   Column            Non-Null Count  Dtype  \n",
      "---  ------            --------------  -----  \n",
      " 0   ID                19237 non-null  int64  \n",
      " 1   Price             19237 non-null  int64  \n",
      " 2   Levy              19237 non-null  object \n",
      " 3   Manufacturer      19237 non-null  object \n",
      " 4   Model             19237 non-null  object \n",
      " 5   Prod. year        19237 non-null  int64  \n",
      " 6   Category          19237 non-null  object \n",
      " 7   Leather interior  19237 non-null  object \n",
      " 8   Fuel type         19237 non-null  object \n",
      " 9   Engine volume     19237 non-null  object \n",
      " 10  Mileage           19237 non-null  object \n",
      " 11  Cylinders         19237 non-null  float64\n",
      " 12  Gear box type     19237 non-null  object \n",
      " 13  Drive wheels      19237 non-null  object \n",
      " 14  Doors             19237 non-null  object \n",
      " 15  Wheel             19237 non-null  object \n",
      " 16  Color             19237 non-null  object \n",
      " 17  Airbags           19237 non-null  int64  \n",
      "dtypes: float64(1), int64(4), object(13)\n",
      "memory usage: 2.6+ MB\n"
     ]
    }
   ],
   "source": [
    "df_train.info()"
   ]
  },
  {
   "cell_type": "code",
   "execution_count": 8,
   "id": "electronic-packet",
   "metadata": {
    "execution": {
     "iopub.execute_input": "2021-07-18T07:22:05.549484Z",
     "iopub.status.busy": "2021-07-18T07:22:05.548842Z",
     "iopub.status.idle": "2021-07-18T07:22:05.573773Z",
     "shell.execute_reply": "2021-07-18T07:22:05.574317Z",
     "shell.execute_reply.started": "2021-07-18T07:18:05.534758Z"
    },
    "papermill": {
     "duration": 0.113317,
     "end_time": "2021-07-18T07:22:05.574485",
     "exception": false,
     "start_time": "2021-07-18T07:22:05.461168",
     "status": "completed"
    },
    "tags": []
   },
   "outputs": [
    {
     "name": "stdout",
     "output_type": "stream",
     "text": [
      "<class 'pandas.core.frame.DataFrame'>\n",
      "RangeIndex: 8245 entries, 0 to 8244\n",
      "Data columns (total 18 columns):\n",
      " #   Column            Non-Null Count  Dtype  \n",
      "---  ------            --------------  -----  \n",
      " 0   ID                8245 non-null   int64  \n",
      " 1   Levy              8245 non-null   object \n",
      " 2   Manufacturer      8245 non-null   object \n",
      " 3   Model             8245 non-null   object \n",
      " 4   Prod. year        8245 non-null   int64  \n",
      " 5   Category          8245 non-null   object \n",
      " 6   Leather interior  8245 non-null   object \n",
      " 7   Fuel type         8245 non-null   object \n",
      " 8   Engine volume     8245 non-null   object \n",
      " 9   Mileage           8245 non-null   object \n",
      " 10  Cylinders         8245 non-null   int64  \n",
      " 11  Gear box type     8245 non-null   object \n",
      " 12  Drive wheels      8245 non-null   object \n",
      " 13  Doors             8245 non-null   object \n",
      " 14  Wheel             8245 non-null   object \n",
      " 15  Color             8245 non-null   object \n",
      " 16  Airbags           8245 non-null   int64  \n",
      " 17  Price             0 non-null      float64\n",
      "dtypes: float64(1), int64(4), object(13)\n",
      "memory usage: 1.1+ MB\n"
     ]
    }
   ],
   "source": [
    "df_test.info()"
   ]
  },
  {
   "cell_type": "code",
   "execution_count": 9,
   "id": "opposed-jones",
   "metadata": {
    "execution": {
     "iopub.execute_input": "2021-07-18T07:22:05.751256Z",
     "iopub.status.busy": "2021-07-18T07:22:05.750217Z",
     "iopub.status.idle": "2021-07-18T07:22:05.755910Z",
     "shell.execute_reply": "2021-07-18T07:22:05.755281Z",
     "shell.execute_reply.started": "2021-07-18T07:18:05.638893Z"
    },
    "papermill": {
     "duration": 0.09626,
     "end_time": "2021-07-18T07:22:05.756050",
     "exception": false,
     "start_time": "2021-07-18T07:22:05.659790",
     "status": "completed"
    },
    "tags": []
   },
   "outputs": [
    {
     "data": {
      "text/plain": [
       "array(['3.5', '3', '1.3', '2.5', '2', '1.8', '2.4', '4', '1.6', '3.3',\n",
       "       '2.0 Turbo', '2.2 Turbo', '4.7', '1.5', '4.4', '3.0 Turbo',\n",
       "       '1.4 Turbo', '3.6', '2.3', '1.5 Turbo', '1.6 Turbo', '2.2',\n",
       "       '2.3 Turbo', '1.4', '5.5', '2.8 Turbo', '3.2', '3.8', '4.6', '1.2',\n",
       "       '5', '1.7', '2.9', '0.5', '1.8 Turbo', '2.4 Turbo', '3.5 Turbo',\n",
       "       '1.9', '2.7', '4.8', '5.3', '0.4', '2.8', '3.2 Turbo', '1.1',\n",
       "       '2.1', '0.7', '5.4', '1.3 Turbo', '3.7', '1', '2.5 Turbo', '2.6',\n",
       "       '1.9 Turbo', '4.4 Turbo', '4.7 Turbo', '0.8', '0.2 Turbo', '5.7',\n",
       "       '4.8 Turbo', '4.6 Turbo', '6.7', '6.2', '1.2 Turbo', '3.4',\n",
       "       '1.7 Turbo', '6.3 Turbo', '2.7 Turbo', '4.3', '4.2', '2.9 Turbo',\n",
       "       '0', '4.0 Turbo', '20', '3.6 Turbo', '0.3', '3.7 Turbo', '5.9',\n",
       "       '5.5 Turbo', '0.2', '2.1 Turbo', '5.6', '6', '0.7 Turbo',\n",
       "       '0.6 Turbo', '6.8', '4.5', '0.6', '7.3', '0.1', '1.0 Turbo', '6.3',\n",
       "       '4.5 Turbo', '0.8 Turbo', '4.2 Turbo', '3.1', '5.0 Turbo', '6.4',\n",
       "       '3.9', '5.7 Turbo', '0.9', '0.4 Turbo', '5.4 Turbo', '0.3 Turbo',\n",
       "       '5.2', '5.8', '1.1 Turbo'], dtype=object)"
      ]
     },
     "execution_count": 9,
     "metadata": {},
     "output_type": "execute_result"
    }
   ],
   "source": [
    "df_train['Engine volume'].unique()"
   ]
  },
  {
   "cell_type": "code",
   "execution_count": 10,
   "id": "weird-thesis",
   "metadata": {
    "execution": {
     "iopub.execute_input": "2021-07-18T07:22:05.934592Z",
     "iopub.status.busy": "2021-07-18T07:22:05.933732Z",
     "iopub.status.idle": "2021-07-18T07:22:05.937412Z",
     "shell.execute_reply": "2021-07-18T07:22:05.936795Z",
     "shell.execute_reply.started": "2021-07-18T07:18:05.747024Z"
    },
    "papermill": {
     "duration": 0.095031,
     "end_time": "2021-07-18T07:22:05.937554",
     "exception": false,
     "start_time": "2021-07-18T07:22:05.842523",
     "status": "completed"
    },
    "tags": []
   },
   "outputs": [
    {
     "data": {
      "text/plain": [
       "array(['2.0 Turbo', '2.4', '1.5', '3.2', '1.6', '4.6', '3.5', '2', '1.8',\n",
       "       '2.5', '1.7', '2.2 Turbo', '2.3 Turbo', '4', '1.3', '3',\n",
       "       '1.4 Turbo', '2.2', '3.0 Turbo', '3.3', '2.9 Turbo', '1.4',\n",
       "       '3.2 Turbo', '4.8', '3.6', '2.7', '1.8 Turbo', '1', '1.5 Turbo',\n",
       "       '2.4 Turbo', '0.7', '5.5', '1.7 Turbo', '4.4', '4.7', '5', '1.2',\n",
       "       '2.8', '3.8', '1.6 Turbo', '2.6', '5.3', '3.7', '5.7', '6.6',\n",
       "       '1.3 Turbo', '2.3', '0.2', '4.7 Turbo', '2.5 Turbo', '6.4', '5.6',\n",
       "       '1.9 Turbo', '3.4', '5.5 Turbo', '6.7', '0.4', '4.4 Turbo',\n",
       "       '2.7 Turbo', '4.2', '2.1', '2.1 Turbo', '6.2', '0.8 Turbo', '0',\n",
       "       '6', '4.3', '1.9', '1.1', '4.6 Turbo', '3.1', '1.2 Turbo', '0.8',\n",
       "       '3.5 Turbo', '0.6 Turbo', '4.5 Turbo', '6.3', '6.1', '4.8 Turbo',\n",
       "       '0.5', '4.0 Turbo', '3.6 Turbo', '10.8', '0.7 Turbo', '5.4',\n",
       "       '3.7 Turbo', '4.2 Turbo', '4.5', '0.6', '2.8 Turbo', '2.9',\n",
       "       '0.3 Turbo', '1.0 Turbo', '5.2', '6.0 Turbo', '3.9', '2.6 Turbo'],\n",
       "      dtype=object)"
      ]
     },
     "execution_count": 10,
     "metadata": {},
     "output_type": "execute_result"
    }
   ],
   "source": [
    "df_test['Engine volume'].unique()"
   ]
  },
  {
   "cell_type": "markdown",
   "id": "specialized-intranet",
   "metadata": {
    "papermill": {
     "duration": 0.086827,
     "end_time": "2021-07-18T07:22:06.111742",
     "exception": false,
     "start_time": "2021-07-18T07:22:06.024915",
     "status": "completed"
    },
    "tags": []
   },
   "source": [
    "https://www.webuyanycar.com/guides/car-ownership/car-engine-sizes/"
   ]
  },
  {
   "cell_type": "markdown",
   "id": "talented-pottery",
   "metadata": {
    "papermill": {
     "duration": 0.087816,
     "end_time": "2021-07-18T07:22:06.286689",
     "exception": false,
     "start_time": "2021-07-18T07:22:06.198873",
     "status": "completed"
    },
    "tags": []
   },
   "source": [
    "## Feature Engineering"
   ]
  },
  {
   "cell_type": "code",
   "execution_count": 11,
   "id": "connected-terror",
   "metadata": {
    "execution": {
     "iopub.execute_input": "2021-07-18T07:22:06.474693Z",
     "iopub.status.busy": "2021-07-18T07:22:06.473962Z",
     "iopub.status.idle": "2021-07-18T07:22:06.477287Z",
     "shell.execute_reply": "2021-07-18T07:22:06.476716Z",
     "shell.execute_reply.started": "2021-07-18T07:18:05.800444Z"
    },
    "papermill": {
     "duration": 0.10351,
     "end_time": "2021-07-18T07:22:06.477430",
     "exception": false,
     "start_time": "2021-07-18T07:22:06.373920",
     "status": "completed"
    },
    "tags": []
   },
   "outputs": [],
   "source": [
    "df_train['Engine volume']=df_train['Engine volume'].replace(to_replace='0',value=df_train['Engine volume'].mode()[0])\n",
    "df_test['Engine volume']=df_test['Engine volume'].replace(to_replace='0',value=df_test['Engine volume'].mode()[0])"
   ]
  },
  {
   "cell_type": "code",
   "execution_count": 12,
   "id": "liable-devices",
   "metadata": {
    "execution": {
     "iopub.execute_input": "2021-07-18T07:22:06.653424Z",
     "iopub.status.busy": "2021-07-18T07:22:06.652786Z",
     "iopub.status.idle": "2021-07-18T07:22:06.713708Z",
     "shell.execute_reply": "2021-07-18T07:22:06.714179Z",
     "shell.execute_reply.started": "2021-07-18T07:18:05.867990Z"
    },
    "papermill": {
     "duration": 0.150731,
     "end_time": "2021-07-18T07:22:06.714384",
     "exception": false,
     "start_time": "2021-07-18T07:22:06.563653",
     "status": "completed"
    },
    "tags": []
   },
   "outputs": [],
   "source": [
    "df_train['Turbo']=df_train['Engine volume'].str.split(expand=True)[1]\n",
    "df_test['Turbo']=df_test['Engine volume'].str.split(expand=True)[1]"
   ]
  },
  {
   "cell_type": "code",
   "execution_count": 13,
   "id": "variable-grenada",
   "metadata": {
    "execution": {
     "iopub.execute_input": "2021-07-18T07:22:06.890518Z",
     "iopub.status.busy": "2021-07-18T07:22:06.889896Z",
     "iopub.status.idle": "2021-07-18T07:22:07.042030Z",
     "shell.execute_reply": "2021-07-18T07:22:07.042544Z",
     "shell.execute_reply.started": "2021-07-18T07:18:05.932984Z"
    },
    "papermill": {
     "duration": 0.242276,
     "end_time": "2021-07-18T07:22:07.042725",
     "exception": false,
     "start_time": "2021-07-18T07:22:06.800449",
     "status": "completed"
    },
    "tags": []
   },
   "outputs": [],
   "source": [
    "df_train['Engine volume']=df_train['Engine volume'].str.split(expand=True)[0]\n",
    "df_test['Engine volume']=df_test['Engine volume'].str.split(expand=True)[0]"
   ]
  },
  {
   "cell_type": "code",
   "execution_count": 14,
   "id": "elect-addition",
   "metadata": {
    "execution": {
     "iopub.execute_input": "2021-07-18T07:22:07.217452Z",
     "iopub.status.busy": "2021-07-18T07:22:07.216816Z",
     "iopub.status.idle": "2021-07-18T07:22:07.229414Z",
     "shell.execute_reply": "2021-07-18T07:22:07.229891Z",
     "shell.execute_reply.started": "2021-07-18T07:18:06.024387Z"
    },
    "papermill": {
     "duration": 0.101384,
     "end_time": "2021-07-18T07:22:07.230080",
     "exception": false,
     "start_time": "2021-07-18T07:22:07.128696",
     "status": "completed"
    },
    "tags": []
   },
   "outputs": [],
   "source": [
    "df_train['Engine volume']=df_train['Engine volume'].astype('float')\n",
    "df_test['Engine volume']=df_test['Engine volume'].astype('float')"
   ]
  },
  {
   "cell_type": "code",
   "execution_count": 15,
   "id": "sealed-printing",
   "metadata": {
    "execution": {
     "iopub.execute_input": "2021-07-18T07:22:07.406768Z",
     "iopub.status.busy": "2021-07-18T07:22:07.406106Z",
     "iopub.status.idle": "2021-07-18T07:22:07.413226Z",
     "shell.execute_reply": "2021-07-18T07:22:07.413738Z",
     "shell.execute_reply.started": "2021-07-18T07:18:06.096478Z"
    },
    "papermill": {
     "duration": 0.096273,
     "end_time": "2021-07-18T07:22:07.413917",
     "exception": false,
     "start_time": "2021-07-18T07:22:07.317644",
     "status": "completed"
    },
    "tags": []
   },
   "outputs": [],
   "source": [
    "df_train['Turbo']=df_train['Turbo'].fillna('No')\n",
    "df_test['Turbo']=df_test['Turbo'].fillna('No')"
   ]
  },
  {
   "cell_type": "code",
   "execution_count": 16,
   "id": "weighted-paraguay",
   "metadata": {
    "execution": {
     "iopub.execute_input": "2021-07-18T07:22:07.590172Z",
     "iopub.status.busy": "2021-07-18T07:22:07.589181Z",
     "iopub.status.idle": "2021-07-18T07:22:07.600201Z",
     "shell.execute_reply": "2021-07-18T07:22:07.600697Z",
     "shell.execute_reply.started": "2021-07-18T07:18:06.147471Z"
    },
    "papermill": {
     "duration": 0.100566,
     "end_time": "2021-07-18T07:22:07.600871",
     "exception": false,
     "start_time": "2021-07-18T07:22:07.500305",
     "status": "completed"
    },
    "tags": []
   },
   "outputs": [],
   "source": [
    "df_train['Turbo']=df_train['Turbo'].replace({'Turbo':'Yes'})\n",
    "df_test['Turbo']=df_test['Turbo'].replace({'Turbo':'Yes'})"
   ]
  },
  {
   "cell_type": "code",
   "execution_count": 17,
   "id": "signed-newspaper",
   "metadata": {
    "execution": {
     "iopub.execute_input": "2021-07-18T07:22:07.780004Z",
     "iopub.status.busy": "2021-07-18T07:22:07.779383Z",
     "iopub.status.idle": "2021-07-18T07:22:07.800519Z",
     "shell.execute_reply": "2021-07-18T07:22:07.799833Z",
     "shell.execute_reply.started": "2021-07-18T07:18:06.203664Z"
    },
    "papermill": {
     "duration": 0.11175,
     "end_time": "2021-07-18T07:22:07.800657",
     "exception": false,
     "start_time": "2021-07-18T07:22:07.688907",
     "status": "completed"
    },
    "tags": []
   },
   "outputs": [],
   "source": [
    "df_train['Engine volume']=df_train['Engine volume']*1000\n",
    "df_test['Engine volume']=df_test['Engine volume']*1000"
   ]
  },
  {
   "cell_type": "code",
   "execution_count": 18,
   "id": "brown-colonial",
   "metadata": {
    "execution": {
     "iopub.execute_input": "2021-07-18T07:22:07.984930Z",
     "iopub.status.busy": "2021-07-18T07:22:07.984275Z",
     "iopub.status.idle": "2021-07-18T07:22:07.994807Z",
     "shell.execute_reply": "2021-07-18T07:22:07.994205Z",
     "shell.execute_reply.started": "2021-07-18T07:18:06.263574Z"
    },
    "papermill": {
     "duration": 0.107637,
     "end_time": "2021-07-18T07:22:07.994948",
     "exception": false,
     "start_time": "2021-07-18T07:22:07.887311",
     "status": "completed"
    },
    "tags": []
   },
   "outputs": [],
   "source": [
    "df_train['Levy']=df_train['Levy'].replace({'-':'0'})\n",
    "df_train['Levy']=df_train['Levy'].astype('int')"
   ]
  },
  {
   "cell_type": "code",
   "execution_count": 19,
   "id": "persistent-aerospace",
   "metadata": {
    "execution": {
     "iopub.execute_input": "2021-07-18T07:22:08.176079Z",
     "iopub.status.busy": "2021-07-18T07:22:08.175422Z",
     "iopub.status.idle": "2021-07-18T07:22:08.182202Z",
     "shell.execute_reply": "2021-07-18T07:22:08.181656Z",
     "shell.execute_reply.started": "2021-07-18T07:18:06.314765Z"
    },
    "papermill": {
     "duration": 0.100708,
     "end_time": "2021-07-18T07:22:08.182369",
     "exception": false,
     "start_time": "2021-07-18T07:22:08.081661",
     "status": "completed"
    },
    "tags": []
   },
   "outputs": [],
   "source": [
    "df_test['Levy']=df_test['Levy'].replace({'-':'0'})\n",
    "df_test['Levy']=df_test['Levy'].astype('int')"
   ]
  },
  {
   "cell_type": "code",
   "execution_count": 20,
   "id": "higher-spider",
   "metadata": {
    "execution": {
     "iopub.execute_input": "2021-07-18T07:22:08.360807Z",
     "iopub.status.busy": "2021-07-18T07:22:08.360107Z",
     "iopub.status.idle": "2021-07-18T07:22:08.364938Z",
     "shell.execute_reply": "2021-07-18T07:22:08.364183Z",
     "shell.execute_reply.started": "2021-07-18T07:18:06.385573Z"
    },
    "papermill": {
     "duration": 0.095717,
     "end_time": "2021-07-18T07:22:08.365083",
     "exception": false,
     "start_time": "2021-07-18T07:22:08.269366",
     "status": "completed"
    },
    "tags": []
   },
   "outputs": [],
   "source": [
    "df_train['Price']=df_train['Price'].astype('float')\n",
    "df_test['Price']=df_test['Price'].astype('float')"
   ]
  },
  {
   "cell_type": "code",
   "execution_count": 21,
   "id": "headed-promotion",
   "metadata": {
    "execution": {
     "iopub.execute_input": "2021-07-18T07:22:08.558478Z",
     "iopub.status.busy": "2021-07-18T07:22:08.553375Z",
     "iopub.status.idle": "2021-07-18T07:22:08.576834Z",
     "shell.execute_reply": "2021-07-18T07:22:08.576200Z",
     "shell.execute_reply.started": "2021-07-18T07:18:06.447661Z"
    },
    "papermill": {
     "duration": 0.12453,
     "end_time": "2021-07-18T07:22:08.576977",
     "exception": false,
     "start_time": "2021-07-18T07:22:08.452447",
     "status": "completed"
    },
    "tags": []
   },
   "outputs": [],
   "source": [
    "df_train['Mileage']=df_train['Mileage'].str.replace(' km','')\n",
    "df_test['Mileage']=df_test['Mileage'].str.replace(' km','')"
   ]
  },
  {
   "cell_type": "code",
   "execution_count": 22,
   "id": "incoming-shelter",
   "metadata": {
    "execution": {
     "iopub.execute_input": "2021-07-18T07:22:08.762828Z",
     "iopub.status.busy": "2021-07-18T07:22:08.761819Z",
     "iopub.status.idle": "2021-07-18T07:22:08.766302Z",
     "shell.execute_reply": "2021-07-18T07:22:08.765648Z",
     "shell.execute_reply.started": "2021-07-18T07:18:06.499725Z"
    },
    "papermill": {
     "duration": 0.103605,
     "end_time": "2021-07-18T07:22:08.766442",
     "exception": false,
     "start_time": "2021-07-18T07:22:08.662837",
     "status": "completed"
    },
    "tags": []
   },
   "outputs": [],
   "source": [
    "df_train['Mileage']=df_train['Mileage'].astype('float')\n",
    "df_test['Mileage']=df_test['Mileage'].astype('float')"
   ]
  },
  {
   "cell_type": "code",
   "execution_count": null,
   "id": "sweet-legislature",
   "metadata": {
    "papermill": {
     "duration": 0.085641,
     "end_time": "2021-07-18T07:22:08.937902",
     "exception": false,
     "start_time": "2021-07-18T07:22:08.852261",
     "status": "completed"
    },
    "tags": []
   },
   "outputs": [],
   "source": []
  },
  {
   "cell_type": "code",
   "execution_count": 23,
   "id": "velvet-elder",
   "metadata": {
    "execution": {
     "iopub.execute_input": "2021-07-18T07:22:09.119432Z",
     "iopub.status.busy": "2021-07-18T07:22:09.118729Z",
     "iopub.status.idle": "2021-07-18T07:22:09.125845Z",
     "shell.execute_reply": "2021-07-18T07:22:09.126345Z",
     "shell.execute_reply.started": "2021-07-18T07:18:06.561840Z"
    },
    "papermill": {
     "duration": 0.101706,
     "end_time": "2021-07-18T07:22:09.126524",
     "exception": false,
     "start_time": "2021-07-18T07:22:09.024818",
     "status": "completed"
    },
    "tags": []
   },
   "outputs": [],
   "source": [
    "df_train['Mileage']=df_train['Mileage'].replace({0:df_train['Mileage'].median()})\n",
    "df_test['Mileage']=df_test['Mileage'].replace({0:df_test['Mileage'].median()})"
   ]
  },
  {
   "cell_type": "code",
   "execution_count": 24,
   "id": "treated-commission",
   "metadata": {
    "execution": {
     "iopub.execute_input": "2021-07-18T07:22:09.302930Z",
     "iopub.status.busy": "2021-07-18T07:22:09.302314Z",
     "iopub.status.idle": "2021-07-18T07:22:09.314729Z",
     "shell.execute_reply": "2021-07-18T07:22:09.315227Z",
     "shell.execute_reply.started": "2021-07-18T07:18:06.611299Z"
    },
    "papermill": {
     "duration": 0.102596,
     "end_time": "2021-07-18T07:22:09.315432",
     "exception": false,
     "start_time": "2021-07-18T07:22:09.212836",
     "status": "completed"
    },
    "tags": []
   },
   "outputs": [],
   "source": [
    "df_train['Drive wheels']=df_train['Drive wheels'].replace({'4x4':'All'})\n",
    "df_test['Drive wheels']=df_test['Drive wheels'].replace({'4x4':'All'})"
   ]
  },
  {
   "cell_type": "code",
   "execution_count": 25,
   "id": "ignored-ability",
   "metadata": {
    "execution": {
     "iopub.execute_input": "2021-07-18T07:22:09.490883Z",
     "iopub.status.busy": "2021-07-18T07:22:09.490120Z",
     "iopub.status.idle": "2021-07-18T07:22:09.504449Z",
     "shell.execute_reply": "2021-07-18T07:22:09.503743Z",
     "shell.execute_reply.started": "2021-07-18T07:18:06.663903Z"
    },
    "papermill": {
     "duration": 0.102906,
     "end_time": "2021-07-18T07:22:09.504591",
     "exception": false,
     "start_time": "2021-07-18T07:22:09.401685",
     "status": "completed"
    },
    "tags": []
   },
   "outputs": [],
   "source": [
    "df_train['Doors']=df_train['Doors'].replace({'04-May':'4-5','02-Mar':'2-3'})\n",
    "df_test['Doors']=df_test['Doors'].replace({'04-May':'4-5','02-Mar':'2-3'})"
   ]
  },
  {
   "cell_type": "code",
   "execution_count": 26,
   "id": "loved-initial",
   "metadata": {
    "execution": {
     "iopub.execute_input": "2021-07-18T07:22:09.682809Z",
     "iopub.status.busy": "2021-07-18T07:22:09.682077Z",
     "iopub.status.idle": "2021-07-18T07:22:09.698623Z",
     "shell.execute_reply": "2021-07-18T07:22:09.698067Z",
     "shell.execute_reply.started": "2021-07-18T07:18:06.712150Z"
    },
    "papermill": {
     "duration": 0.107455,
     "end_time": "2021-07-18T07:22:09.698770",
     "exception": false,
     "start_time": "2021-07-18T07:22:09.591315",
     "status": "completed"
    },
    "tags": []
   },
   "outputs": [],
   "source": [
    "df_train=df_train.drop(['Model','ID'],axis=1)\n",
    "df_test=df_test.drop(['Model','ID'],axis=1)"
   ]
  },
  {
   "cell_type": "code",
   "execution_count": 27,
   "id": "expressed-reservation",
   "metadata": {
    "execution": {
     "iopub.execute_input": "2021-07-18T07:22:09.875901Z",
     "iopub.status.busy": "2021-07-18T07:22:09.875157Z",
     "iopub.status.idle": "2021-07-18T07:22:09.878319Z",
     "shell.execute_reply": "2021-07-18T07:22:09.878812Z",
     "shell.execute_reply.started": "2021-07-18T07:18:06.768345Z"
    },
    "papermill": {
     "duration": 0.093969,
     "end_time": "2021-07-18T07:22:09.878977",
     "exception": false,
     "start_time": "2021-07-18T07:22:09.785008",
     "status": "completed"
    },
    "tags": []
   },
   "outputs": [
    {
     "data": {
      "text/plain": [
       "(19237, 17)"
      ]
     },
     "execution_count": 27,
     "metadata": {},
     "output_type": "execute_result"
    }
   ],
   "source": [
    "df_train.shape"
   ]
  },
  {
   "cell_type": "code",
   "execution_count": 28,
   "id": "signal-editing",
   "metadata": {
    "execution": {
     "iopub.execute_input": "2021-07-18T07:22:10.056899Z",
     "iopub.status.busy": "2021-07-18T07:22:10.056184Z",
     "iopub.status.idle": "2021-07-18T07:22:10.063631Z",
     "shell.execute_reply": "2021-07-18T07:22:10.062944Z",
     "shell.execute_reply.started": "2021-07-18T07:18:06.839891Z"
    },
    "papermill": {
     "duration": 0.097984,
     "end_time": "2021-07-18T07:22:10.063780",
     "exception": false,
     "start_time": "2021-07-18T07:22:09.965796",
     "status": "completed"
    },
    "tags": []
   },
   "outputs": [
    {
     "data": {
      "text/plain": [
       "(8245, 17)"
      ]
     },
     "execution_count": 28,
     "metadata": {},
     "output_type": "execute_result"
    }
   ],
   "source": [
    "df_test.shape"
   ]
  },
  {
   "cell_type": "markdown",
   "id": "forced-preview",
   "metadata": {
    "papermill": {
     "duration": 0.086288,
     "end_time": "2021-07-18T07:22:10.412738",
     "exception": false,
     "start_time": "2021-07-18T07:22:10.326450",
     "status": "completed"
    },
    "tags": []
   },
   "source": [
    "## EDA"
   ]
  },
  {
   "cell_type": "code",
   "execution_count": null,
   "id": "prescribed-tours",
   "metadata": {
    "papermill": {
     "duration": 0.087228,
     "end_time": "2021-07-18T07:22:10.238559",
     "exception": false,
     "start_time": "2021-07-18T07:22:10.151331",
     "status": "completed"
    },
    "tags": []
   },
   "outputs": [],
   "source": []
  },
  {
   "cell_type": "code",
   "execution_count": 29,
   "id": "organized-socket",
   "metadata": {
    "execution": {
     "iopub.execute_input": "2021-07-18T07:22:10.593420Z",
     "iopub.status.busy": "2021-07-18T07:22:10.592499Z",
     "iopub.status.idle": "2021-07-18T07:22:10.596960Z",
     "shell.execute_reply": "2021-07-18T07:22:10.596435Z",
     "shell.execute_reply.started": "2021-07-18T07:18:06.898456Z"
    },
    "papermill": {
     "duration": 0.096235,
     "end_time": "2021-07-18T07:22:10.597103",
     "exception": false,
     "start_time": "2021-07-18T07:22:10.500868",
     "status": "completed"
    },
    "tags": []
   },
   "outputs": [],
   "source": [
    "df=df_train.copy(deep=True)"
   ]
  },
  {
   "cell_type": "code",
   "execution_count": 30,
   "id": "becoming-breath",
   "metadata": {
    "execution": {
     "iopub.execute_input": "2021-07-18T07:22:10.793774Z",
     "iopub.status.busy": "2021-07-18T07:22:10.792948Z",
     "iopub.status.idle": "2021-07-18T07:22:10.796971Z",
     "shell.execute_reply": "2021-07-18T07:22:10.797426Z",
     "shell.execute_reply.started": "2021-07-18T07:18:06.983170Z"
    },
    "papermill": {
     "duration": 0.113902,
     "end_time": "2021-07-18T07:22:10.797598",
     "exception": false,
     "start_time": "2021-07-18T07:22:10.683696",
     "status": "completed"
    },
    "tags": []
   },
   "outputs": [
    {
     "data": {
      "text/html": [
       "<div>\n",
       "<style scoped>\n",
       "    .dataframe tbody tr th:only-of-type {\n",
       "        vertical-align: middle;\n",
       "    }\n",
       "\n",
       "    .dataframe tbody tr th {\n",
       "        vertical-align: top;\n",
       "    }\n",
       "\n",
       "    .dataframe thead th {\n",
       "        text-align: right;\n",
       "    }\n",
       "</style>\n",
       "<table border=\"1\" class=\"dataframe\">\n",
       "  <thead>\n",
       "    <tr style=\"text-align: right;\">\n",
       "      <th></th>\n",
       "      <th>Price</th>\n",
       "      <th>Levy</th>\n",
       "      <th>Manufacturer</th>\n",
       "      <th>Prod. year</th>\n",
       "      <th>Category</th>\n",
       "      <th>Leather interior</th>\n",
       "      <th>Fuel type</th>\n",
       "      <th>Engine volume</th>\n",
       "      <th>Mileage</th>\n",
       "      <th>Cylinders</th>\n",
       "      <th>Gear box type</th>\n",
       "      <th>Drive wheels</th>\n",
       "      <th>Doors</th>\n",
       "      <th>Wheel</th>\n",
       "      <th>Color</th>\n",
       "      <th>Airbags</th>\n",
       "      <th>Turbo</th>\n",
       "    </tr>\n",
       "  </thead>\n",
       "  <tbody>\n",
       "    <tr>\n",
       "      <th>0</th>\n",
       "      <td>13328.0</td>\n",
       "      <td>1399</td>\n",
       "      <td>LEXUS</td>\n",
       "      <td>2010</td>\n",
       "      <td>Jeep</td>\n",
       "      <td>Yes</td>\n",
       "      <td>Hybrid</td>\n",
       "      <td>3500.0</td>\n",
       "      <td>186005.0</td>\n",
       "      <td>6.0</td>\n",
       "      <td>Automatic</td>\n",
       "      <td>All</td>\n",
       "      <td>4-5</td>\n",
       "      <td>Left wheel</td>\n",
       "      <td>Silver</td>\n",
       "      <td>12</td>\n",
       "      <td>No</td>\n",
       "    </tr>\n",
       "    <tr>\n",
       "      <th>1</th>\n",
       "      <td>16621.0</td>\n",
       "      <td>1018</td>\n",
       "      <td>CHEVROLET</td>\n",
       "      <td>2011</td>\n",
       "      <td>Jeep</td>\n",
       "      <td>No</td>\n",
       "      <td>Petrol</td>\n",
       "      <td>3000.0</td>\n",
       "      <td>192000.0</td>\n",
       "      <td>6.0</td>\n",
       "      <td>Tiptronic</td>\n",
       "      <td>All</td>\n",
       "      <td>4-5</td>\n",
       "      <td>Left wheel</td>\n",
       "      <td>Black</td>\n",
       "      <td>8</td>\n",
       "      <td>No</td>\n",
       "    </tr>\n",
       "    <tr>\n",
       "      <th>2</th>\n",
       "      <td>8467.0</td>\n",
       "      <td>0</td>\n",
       "      <td>HONDA</td>\n",
       "      <td>2006</td>\n",
       "      <td>Hatchback</td>\n",
       "      <td>No</td>\n",
       "      <td>Petrol</td>\n",
       "      <td>1300.0</td>\n",
       "      <td>200000.0</td>\n",
       "      <td>4.0</td>\n",
       "      <td>Variator</td>\n",
       "      <td>Front</td>\n",
       "      <td>4-5</td>\n",
       "      <td>Right-hand drive</td>\n",
       "      <td>Black</td>\n",
       "      <td>2</td>\n",
       "      <td>No</td>\n",
       "    </tr>\n",
       "    <tr>\n",
       "      <th>3</th>\n",
       "      <td>3607.0</td>\n",
       "      <td>862</td>\n",
       "      <td>FORD</td>\n",
       "      <td>2011</td>\n",
       "      <td>Jeep</td>\n",
       "      <td>Yes</td>\n",
       "      <td>Hybrid</td>\n",
       "      <td>2500.0</td>\n",
       "      <td>168966.0</td>\n",
       "      <td>4.0</td>\n",
       "      <td>Automatic</td>\n",
       "      <td>All</td>\n",
       "      <td>4-5</td>\n",
       "      <td>Left wheel</td>\n",
       "      <td>White</td>\n",
       "      <td>0</td>\n",
       "      <td>No</td>\n",
       "    </tr>\n",
       "    <tr>\n",
       "      <th>4</th>\n",
       "      <td>11726.0</td>\n",
       "      <td>446</td>\n",
       "      <td>HONDA</td>\n",
       "      <td>2014</td>\n",
       "      <td>Hatchback</td>\n",
       "      <td>Yes</td>\n",
       "      <td>Petrol</td>\n",
       "      <td>1300.0</td>\n",
       "      <td>91901.0</td>\n",
       "      <td>4.0</td>\n",
       "      <td>Automatic</td>\n",
       "      <td>Front</td>\n",
       "      <td>4-5</td>\n",
       "      <td>Left wheel</td>\n",
       "      <td>Silver</td>\n",
       "      <td>4</td>\n",
       "      <td>No</td>\n",
       "    </tr>\n",
       "  </tbody>\n",
       "</table>\n",
       "</div>"
      ],
      "text/plain": [
       "     Price  Levy Manufacturer  Prod. year   Category Leather interior  \\\n",
       "0  13328.0  1399        LEXUS        2010       Jeep              Yes   \n",
       "1  16621.0  1018    CHEVROLET        2011       Jeep               No   \n",
       "2   8467.0     0        HONDA        2006  Hatchback               No   \n",
       "3   3607.0   862         FORD        2011       Jeep              Yes   \n",
       "4  11726.0   446        HONDA        2014  Hatchback              Yes   \n",
       "\n",
       "  Fuel type  Engine volume   Mileage  Cylinders Gear box type Drive wheels  \\\n",
       "0    Hybrid         3500.0  186005.0        6.0     Automatic          All   \n",
       "1    Petrol         3000.0  192000.0        6.0     Tiptronic          All   \n",
       "2    Petrol         1300.0  200000.0        4.0      Variator        Front   \n",
       "3    Hybrid         2500.0  168966.0        4.0     Automatic          All   \n",
       "4    Petrol         1300.0   91901.0        4.0     Automatic        Front   \n",
       "\n",
       "  Doors             Wheel   Color  Airbags Turbo  \n",
       "0   4-5        Left wheel  Silver       12    No  \n",
       "1   4-5        Left wheel   Black        8    No  \n",
       "2   4-5  Right-hand drive   Black        2    No  \n",
       "3   4-5        Left wheel   White        0    No  \n",
       "4   4-5        Left wheel  Silver        4    No  "
      ]
     },
     "execution_count": 30,
     "metadata": {},
     "output_type": "execute_result"
    }
   ],
   "source": [
    "df.head()"
   ]
  },
  {
   "cell_type": "code",
   "execution_count": 31,
   "id": "retired-attraction",
   "metadata": {
    "execution": {
     "iopub.execute_input": "2021-07-18T07:22:10.996975Z",
     "iopub.status.busy": "2021-07-18T07:22:10.977572Z",
     "iopub.status.idle": "2021-07-18T07:22:11.010547Z",
     "shell.execute_reply": "2021-07-18T07:22:11.011004Z",
     "shell.execute_reply.started": "2021-07-18T07:18:07.038165Z"
    },
    "papermill": {
     "duration": 0.125986,
     "end_time": "2021-07-18T07:22:11.011176",
     "exception": false,
     "start_time": "2021-07-18T07:22:10.885190",
     "status": "completed"
    },
    "tags": []
   },
   "outputs": [
    {
     "name": "stdout",
     "output_type": "stream",
     "text": [
      "<class 'pandas.core.frame.DataFrame'>\n",
      "RangeIndex: 19237 entries, 0 to 19236\n",
      "Data columns (total 17 columns):\n",
      " #   Column            Non-Null Count  Dtype  \n",
      "---  ------            --------------  -----  \n",
      " 0   Price             19237 non-null  float64\n",
      " 1   Levy              19237 non-null  int32  \n",
      " 2   Manufacturer      19237 non-null  object \n",
      " 3   Prod. year        19237 non-null  int64  \n",
      " 4   Category          19237 non-null  object \n",
      " 5   Leather interior  19237 non-null  object \n",
      " 6   Fuel type         19237 non-null  object \n",
      " 7   Engine volume     19237 non-null  float64\n",
      " 8   Mileage           19237 non-null  float64\n",
      " 9   Cylinders         19237 non-null  float64\n",
      " 10  Gear box type     19237 non-null  object \n",
      " 11  Drive wheels      19237 non-null  object \n",
      " 12  Doors             19237 non-null  object \n",
      " 13  Wheel             19237 non-null  object \n",
      " 14  Color             19237 non-null  object \n",
      " 15  Airbags           19237 non-null  int64  \n",
      " 16  Turbo             19237 non-null  object \n",
      "dtypes: float64(4), int32(1), int64(2), object(10)\n",
      "memory usage: 2.4+ MB\n"
     ]
    }
   ],
   "source": [
    "df.info()"
   ]
  },
  {
   "cell_type": "code",
   "execution_count": 32,
   "id": "immediate-indian",
   "metadata": {
    "execution": {
     "iopub.execute_input": "2021-07-18T07:22:11.195571Z",
     "iopub.status.busy": "2021-07-18T07:22:11.194252Z",
     "iopub.status.idle": "2021-07-18T07:22:11.198348Z",
     "shell.execute_reply": "2021-07-18T07:22:11.197620Z",
     "shell.execute_reply.started": "2021-07-18T07:18:07.084230Z"
    },
    "papermill": {
     "duration": 0.099798,
     "end_time": "2021-07-18T07:22:11.198496",
     "exception": false,
     "start_time": "2021-07-18T07:22:11.098698",
     "status": "completed"
    },
    "tags": []
   },
   "outputs": [],
   "source": [
    "df_num=df.select_dtypes(include=np.number)\n",
    "df_cat=df.select_dtypes(exclude=np.number)"
   ]
  },
  {
   "cell_type": "code",
   "execution_count": 33,
   "id": "completed-astronomy",
   "metadata": {
    "execution": {
     "iopub.execute_input": "2021-07-18T07:22:11.558204Z",
     "iopub.status.busy": "2021-07-18T07:22:11.557167Z",
     "iopub.status.idle": "2021-07-18T07:22:11.593078Z",
     "shell.execute_reply": "2021-07-18T07:22:11.592452Z",
     "shell.execute_reply.started": "2021-07-18T07:18:07.190309Z"
    },
    "papermill": {
     "duration": 0.129556,
     "end_time": "2021-07-18T07:22:11.593217",
     "exception": false,
     "start_time": "2021-07-18T07:22:11.463661",
     "status": "completed"
    },
    "tags": []
   },
   "outputs": [
    {
     "data": {
      "text/html": [
       "<div>\n",
       "<style scoped>\n",
       "    .dataframe tbody tr th:only-of-type {\n",
       "        vertical-align: middle;\n",
       "    }\n",
       "\n",
       "    .dataframe tbody tr th {\n",
       "        vertical-align: top;\n",
       "    }\n",
       "\n",
       "    .dataframe thead th {\n",
       "        text-align: right;\n",
       "    }\n",
       "</style>\n",
       "<table border=\"1\" class=\"dataframe\">\n",
       "  <thead>\n",
       "    <tr style=\"text-align: right;\">\n",
       "      <th></th>\n",
       "      <th>Price</th>\n",
       "      <th>Levy</th>\n",
       "      <th>Manufacturer</th>\n",
       "      <th>Prod. year</th>\n",
       "      <th>Category</th>\n",
       "      <th>Leather interior</th>\n",
       "      <th>Fuel type</th>\n",
       "      <th>Engine volume</th>\n",
       "      <th>Mileage</th>\n",
       "      <th>Cylinders</th>\n",
       "      <th>Gear box type</th>\n",
       "      <th>Drive wheels</th>\n",
       "      <th>Doors</th>\n",
       "      <th>Wheel</th>\n",
       "      <th>Color</th>\n",
       "      <th>Airbags</th>\n",
       "      <th>Turbo</th>\n",
       "    </tr>\n",
       "  </thead>\n",
       "  <tbody>\n",
       "    <tr>\n",
       "      <th>56</th>\n",
       "      <td>87112.0</td>\n",
       "      <td>0</td>\n",
       "      <td>MERCEDES-BENZ</td>\n",
       "      <td>2019</td>\n",
       "      <td>Jeep</td>\n",
       "      <td>Yes</td>\n",
       "      <td>Petrol</td>\n",
       "      <td>2000.0</td>\n",
       "      <td>5323.0</td>\n",
       "      <td>4.0</td>\n",
       "      <td>Tiptronic</td>\n",
       "      <td>All</td>\n",
       "      <td>4-5</td>\n",
       "      <td>Left wheel</td>\n",
       "      <td>Grey</td>\n",
       "      <td>0</td>\n",
       "      <td>Yes</td>\n",
       "    </tr>\n",
       "    <tr>\n",
       "      <th>90</th>\n",
       "      <td>77775.0</td>\n",
       "      <td>1604</td>\n",
       "      <td>MERCEDES-BENZ</td>\n",
       "      <td>2014</td>\n",
       "      <td>Jeep</td>\n",
       "      <td>Yes</td>\n",
       "      <td>Petrol</td>\n",
       "      <td>5500.0</td>\n",
       "      <td>433811.0</td>\n",
       "      <td>8.0</td>\n",
       "      <td>Automatic</td>\n",
       "      <td>All</td>\n",
       "      <td>4-5</td>\n",
       "      <td>Left wheel</td>\n",
       "      <td>Black</td>\n",
       "      <td>10</td>\n",
       "      <td>No</td>\n",
       "    </tr>\n",
       "    <tr>\n",
       "      <th>111</th>\n",
       "      <td>85553.0</td>\n",
       "      <td>1156</td>\n",
       "      <td>FORD</td>\n",
       "      <td>2017</td>\n",
       "      <td>Jeep</td>\n",
       "      <td>Yes</td>\n",
       "      <td>Petrol</td>\n",
       "      <td>2300.0</td>\n",
       "      <td>100567.0</td>\n",
       "      <td>4.0</td>\n",
       "      <td>Automatic</td>\n",
       "      <td>Front</td>\n",
       "      <td>4-5</td>\n",
       "      <td>Left wheel</td>\n",
       "      <td>Black</td>\n",
       "      <td>4</td>\n",
       "      <td>No</td>\n",
       "    </tr>\n",
       "    <tr>\n",
       "      <th>159</th>\n",
       "      <td>72130.0</td>\n",
       "      <td>1079</td>\n",
       "      <td>LEXUS</td>\n",
       "      <td>2018</td>\n",
       "      <td>Jeep</td>\n",
       "      <td>Yes</td>\n",
       "      <td>Petrol</td>\n",
       "      <td>2000.0</td>\n",
       "      <td>18918.0</td>\n",
       "      <td>4.0</td>\n",
       "      <td>Tiptronic</td>\n",
       "      <td>Front</td>\n",
       "      <td>4-5</td>\n",
       "      <td>Left wheel</td>\n",
       "      <td>Black</td>\n",
       "      <td>6</td>\n",
       "      <td>Yes</td>\n",
       "    </tr>\n",
       "    <tr>\n",
       "      <th>211</th>\n",
       "      <td>72130.0</td>\n",
       "      <td>1885</td>\n",
       "      <td>PORSCHE</td>\n",
       "      <td>2010</td>\n",
       "      <td>Hatchback</td>\n",
       "      <td>Yes</td>\n",
       "      <td>Petrol</td>\n",
       "      <td>4800.0</td>\n",
       "      <td>196800.0</td>\n",
       "      <td>8.0</td>\n",
       "      <td>Tiptronic</td>\n",
       "      <td>All</td>\n",
       "      <td>4-5</td>\n",
       "      <td>Left wheel</td>\n",
       "      <td>White</td>\n",
       "      <td>8</td>\n",
       "      <td>No</td>\n",
       "    </tr>\n",
       "    <tr>\n",
       "      <th>...</th>\n",
       "      <td>...</td>\n",
       "      <td>...</td>\n",
       "      <td>...</td>\n",
       "      <td>...</td>\n",
       "      <td>...</td>\n",
       "      <td>...</td>\n",
       "      <td>...</td>\n",
       "      <td>...</td>\n",
       "      <td>...</td>\n",
       "      <td>...</td>\n",
       "      <td>...</td>\n",
       "      <td>...</td>\n",
       "      <td>...</td>\n",
       "      <td>...</td>\n",
       "      <td>...</td>\n",
       "      <td>...</td>\n",
       "      <td>...</td>\n",
       "    </tr>\n",
       "    <tr>\n",
       "      <th>18815</th>\n",
       "      <td>111002.0</td>\n",
       "      <td>1228</td>\n",
       "      <td>FORD</td>\n",
       "      <td>2018</td>\n",
       "      <td>Jeep</td>\n",
       "      <td>Yes</td>\n",
       "      <td>Petrol</td>\n",
       "      <td>2300.0</td>\n",
       "      <td>30475.0</td>\n",
       "      <td>4.0</td>\n",
       "      <td>Automatic</td>\n",
       "      <td>Front</td>\n",
       "      <td>4-5</td>\n",
       "      <td>Left wheel</td>\n",
       "      <td>Grey</td>\n",
       "      <td>4</td>\n",
       "      <td>No</td>\n",
       "    </tr>\n",
       "    <tr>\n",
       "      <th>18881</th>\n",
       "      <td>147397.0</td>\n",
       "      <td>0</td>\n",
       "      <td>JAGUAR</td>\n",
       "      <td>2017</td>\n",
       "      <td>Jeep</td>\n",
       "      <td>No</td>\n",
       "      <td>Diesel</td>\n",
       "      <td>2000.0</td>\n",
       "      <td>17060.0</td>\n",
       "      <td>1.0</td>\n",
       "      <td>Automatic</td>\n",
       "      <td>All</td>\n",
       "      <td>4-5</td>\n",
       "      <td>Left wheel</td>\n",
       "      <td>Grey</td>\n",
       "      <td>0</td>\n",
       "      <td>No</td>\n",
       "    </tr>\n",
       "    <tr>\n",
       "      <th>18941</th>\n",
       "      <td>96263.0</td>\n",
       "      <td>866</td>\n",
       "      <td>FORD</td>\n",
       "      <td>2015</td>\n",
       "      <td>Sedan</td>\n",
       "      <td>Yes</td>\n",
       "      <td>Petrol</td>\n",
       "      <td>2300.0</td>\n",
       "      <td>43770.0</td>\n",
       "      <td>4.0</td>\n",
       "      <td>Automatic</td>\n",
       "      <td>Front</td>\n",
       "      <td>4-5</td>\n",
       "      <td>Left wheel</td>\n",
       "      <td>White</td>\n",
       "      <td>4</td>\n",
       "      <td>No</td>\n",
       "    </tr>\n",
       "    <tr>\n",
       "      <th>19085</th>\n",
       "      <td>97219.0</td>\n",
       "      <td>1079</td>\n",
       "      <td>LEXUS</td>\n",
       "      <td>2018</td>\n",
       "      <td>Jeep</td>\n",
       "      <td>Yes</td>\n",
       "      <td>Petrol</td>\n",
       "      <td>2000.0</td>\n",
       "      <td>25600.0</td>\n",
       "      <td>4.0</td>\n",
       "      <td>Tiptronic</td>\n",
       "      <td>Front</td>\n",
       "      <td>&gt;5</td>\n",
       "      <td>Left wheel</td>\n",
       "      <td>White</td>\n",
       "      <td>7</td>\n",
       "      <td>Yes</td>\n",
       "    </tr>\n",
       "    <tr>\n",
       "      <th>19121</th>\n",
       "      <td>88438.0</td>\n",
       "      <td>1076</td>\n",
       "      <td>HYUNDAI</td>\n",
       "      <td>2020</td>\n",
       "      <td>Jeep</td>\n",
       "      <td>Yes</td>\n",
       "      <td>Petrol</td>\n",
       "      <td>2000.0</td>\n",
       "      <td>12334.0</td>\n",
       "      <td>4.0</td>\n",
       "      <td>Automatic</td>\n",
       "      <td>Front</td>\n",
       "      <td>4-5</td>\n",
       "      <td>Left wheel</td>\n",
       "      <td>Blue</td>\n",
       "      <td>4</td>\n",
       "      <td>No</td>\n",
       "    </tr>\n",
       "  </tbody>\n",
       "</table>\n",
       "<p>385 rows × 17 columns</p>\n",
       "</div>"
      ],
      "text/plain": [
       "          Price  Levy   Manufacturer  Prod. year   Category Leather interior  \\\n",
       "56      87112.0     0  MERCEDES-BENZ        2019       Jeep              Yes   \n",
       "90      77775.0  1604  MERCEDES-BENZ        2014       Jeep              Yes   \n",
       "111     85553.0  1156           FORD        2017       Jeep              Yes   \n",
       "159     72130.0  1079          LEXUS        2018       Jeep              Yes   \n",
       "211     72130.0  1885        PORSCHE        2010  Hatchback              Yes   \n",
       "...         ...   ...            ...         ...        ...              ...   \n",
       "18815  111002.0  1228           FORD        2018       Jeep              Yes   \n",
       "18881  147397.0     0         JAGUAR        2017       Jeep               No   \n",
       "18941   96263.0   866           FORD        2015      Sedan              Yes   \n",
       "19085   97219.0  1079          LEXUS        2018       Jeep              Yes   \n",
       "19121   88438.0  1076        HYUNDAI        2020       Jeep              Yes   \n",
       "\n",
       "      Fuel type  Engine volume   Mileage  Cylinders Gear box type  \\\n",
       "56       Petrol         2000.0    5323.0        4.0     Tiptronic   \n",
       "90       Petrol         5500.0  433811.0        8.0     Automatic   \n",
       "111      Petrol         2300.0  100567.0        4.0     Automatic   \n",
       "159      Petrol         2000.0   18918.0        4.0     Tiptronic   \n",
       "211      Petrol         4800.0  196800.0        8.0     Tiptronic   \n",
       "...         ...            ...       ...        ...           ...   \n",
       "18815    Petrol         2300.0   30475.0        4.0     Automatic   \n",
       "18881    Diesel         2000.0   17060.0        1.0     Automatic   \n",
       "18941    Petrol         2300.0   43770.0        4.0     Automatic   \n",
       "19085    Petrol         2000.0   25600.0        4.0     Tiptronic   \n",
       "19121    Petrol         2000.0   12334.0        4.0     Automatic   \n",
       "\n",
       "      Drive wheels Doors       Wheel  Color  Airbags Turbo  \n",
       "56             All   4-5  Left wheel   Grey        0   Yes  \n",
       "90             All   4-5  Left wheel  Black       10    No  \n",
       "111          Front   4-5  Left wheel  Black        4    No  \n",
       "159          Front   4-5  Left wheel  Black        6   Yes  \n",
       "211            All   4-5  Left wheel  White        8    No  \n",
       "...            ...   ...         ...    ...      ...   ...  \n",
       "18815        Front   4-5  Left wheel   Grey        4    No  \n",
       "18881          All   4-5  Left wheel   Grey        0    No  \n",
       "18941        Front   4-5  Left wheel  White        4    No  \n",
       "19085        Front    >5  Left wheel  White        7   Yes  \n",
       "19121        Front   4-5  Left wheel   Blue        4    No  \n",
       "\n",
       "[385 rows x 17 columns]"
      ]
     },
     "execution_count": 33,
     "metadata": {},
     "output_type": "execute_result"
    }
   ],
   "source": [
    "df_train[df_train['Price']>df_train['Price'].quantile(0.98)]"
   ]
  },
  {
   "cell_type": "code",
   "execution_count": 34,
   "id": "mysterious-constraint",
   "metadata": {
    "execution": {
     "iopub.execute_input": "2021-07-18T07:22:12.501518Z",
     "iopub.status.busy": "2021-07-18T07:22:12.500800Z",
     "iopub.status.idle": "2021-07-18T07:22:13.179405Z",
     "shell.execute_reply": "2021-07-18T07:22:13.178838Z",
     "shell.execute_reply.started": "2021-07-18T07:18:07.255279Z"
    },
    "papermill": {
     "duration": 0.787625,
     "end_time": "2021-07-18T07:22:13.179562",
     "exception": false,
     "start_time": "2021-07-18T07:22:12.391937",
     "status": "completed"
    },
    "tags": []
   },
   "outputs": [
    {
     "name": "stderr",
     "output_type": "stream",
     "text": [
      "C:\\Users\\sharm\\anaconda3\\lib\\site-packages\\seaborn\\_decorators.py:36: FutureWarning: Pass the following variable as a keyword arg: x. From version 0.12, the only valid positional argument will be `data`, and passing other arguments without an explicit keyword will result in an error or misinterpretation.\n",
      "  warnings.warn(\n",
      "C:\\Users\\sharm\\anaconda3\\lib\\site-packages\\seaborn\\_decorators.py:36: FutureWarning: Pass the following variable as a keyword arg: x. From version 0.12, the only valid positional argument will be `data`, and passing other arguments without an explicit keyword will result in an error or misinterpretation.\n",
      "  warnings.warn(\n",
      "C:\\Users\\sharm\\anaconda3\\lib\\site-packages\\seaborn\\_decorators.py:36: FutureWarning: Pass the following variable as a keyword arg: x. From version 0.12, the only valid positional argument will be `data`, and passing other arguments without an explicit keyword will result in an error or misinterpretation.\n",
      "  warnings.warn(\n",
      "C:\\Users\\sharm\\anaconda3\\lib\\site-packages\\seaborn\\_decorators.py:36: FutureWarning: Pass the following variable as a keyword arg: x. From version 0.12, the only valid positional argument will be `data`, and passing other arguments without an explicit keyword will result in an error or misinterpretation.\n",
      "  warnings.warn(\n",
      "C:\\Users\\sharm\\anaconda3\\lib\\site-packages\\seaborn\\_decorators.py:36: FutureWarning: Pass the following variable as a keyword arg: x. From version 0.12, the only valid positional argument will be `data`, and passing other arguments without an explicit keyword will result in an error or misinterpretation.\n",
      "  warnings.warn(\n",
      "C:\\Users\\sharm\\anaconda3\\lib\\site-packages\\seaborn\\_decorators.py:36: FutureWarning: Pass the following variable as a keyword arg: x. From version 0.12, the only valid positional argument will be `data`, and passing other arguments without an explicit keyword will result in an error or misinterpretation.\n",
      "  warnings.warn(\n"
     ]
    },
    {
     "data": {
      "image/png": "[encoded data removed]",
      "text/plain": [
       "<Figure size 1440x936 with 6 Axes>"
      ]
     },
     "metadata": {
      "needs_background": "light"
     },
     "output_type": "display_data"
    }
   ],
   "source": [
    "fig,ax=plt.subplots(nrows=2,ncols=3,figsize=(20,13))\n",
    "for variable,subplot in zip(df_num.columns,ax.flatten()):\n",
    "    sns.boxplot(df[variable],ax=subplot)\n",
    "plt.show()"
   ]
  },
  {
   "cell_type": "code",
   "execution_count": 35,
   "id": "defined-sheep",
   "metadata": {
    "execution": {
     "iopub.execute_input": "2021-07-18T07:22:13.367818Z",
     "iopub.status.busy": "2021-07-18T07:22:13.366844Z",
     "iopub.status.idle": "2021-07-18T07:22:13.372649Z",
     "shell.execute_reply": "2021-07-18T07:22:13.372132Z",
     "shell.execute_reply.started": "2021-07-18T07:18:07.859822Z"
    },
    "papermill": {
     "duration": 0.102119,
     "end_time": "2021-07-18T07:22:13.372793",
     "exception": false,
     "start_time": "2021-07-18T07:22:13.270674",
     "status": "completed"
    },
    "tags": []
   },
   "outputs": [
    {
     "data": {
      "text/plain": [
       "2020.0"
      ]
     },
     "execution_count": 35,
     "metadata": {},
     "output_type": "execute_result"
    }
   ],
   "source": [
    "df['Prod. year'].quantile(1.0)"
   ]
  },
  {
   "cell_type": "code",
   "execution_count": 36,
   "id": "flush-serbia",
   "metadata": {
    "execution": {
     "iopub.execute_input": "2021-07-18T07:22:14.155917Z",
     "iopub.status.busy": "2021-07-18T07:22:14.154884Z",
     "iopub.status.idle": "2021-07-18T07:22:15.226610Z",
     "shell.execute_reply": "2021-07-18T07:22:15.225968Z",
     "shell.execute_reply.started": "2021-07-18T07:18:07.867803Z"
    },
    "papermill": {
     "duration": 1.169268,
     "end_time": "2021-07-18T07:22:15.226756",
     "exception": false,
     "start_time": "2021-07-18T07:22:14.057488",
     "status": "completed"
    },
    "tags": []
   },
   "outputs": [
    {
     "name": "stderr",
     "output_type": "stream",
     "text": [
      "C:\\Users\\sharm\\anaconda3\\lib\\site-packages\\pandas\\core\\indexing.py:1637: SettingWithCopyWarning: \n",
      "A value is trying to be set on a copy of a slice from a DataFrame\n",
      "\n",
      "See the caveats in the documentation: https://pandas.pydata.org/pandas-docs/stable/user_guide/indexing.html#returning-a-view-versus-a-copy\n",
      "  self._setitem_single_block(indexer, value, name)\n",
      "C:\\Users\\sharm\\anaconda3\\lib\\site-packages\\seaborn\\_decorators.py:36: FutureWarning: Pass the following variable as a keyword arg: x. From version 0.12, the only valid positional argument will be `data`, and passing other arguments without an explicit keyword will result in an error or misinterpretation.\n",
      "  warnings.warn(\n"
     ]
    },
    {
     "data": {
      "text/plain": [
       "<AxesSubplot:xlabel='Prod. year'>"
      ]
     },
     "execution_count": 36,
     "metadata": {},
     "output_type": "execute_result"
    },
    {
     "data": {
      "image/png": "[encoded data removed]",
      "text/plain": [
       "<Figure size 432x288 with 1 Axes>"
      ]
     },
     "metadata": {
      "needs_background": "light"
     },
     "output_type": "display_data"
    }
   ],
   "source": [
    "q1=df['Prod. year'].quantile(0.25)\n",
    "q3=df['Prod. year'].quantile(0.75)\n",
    "iqr=q3-q1\n",
    "lb=q1-1.5*iqr\n",
    "lc=df['Prod. year'].quantile(0.05)\n",
    "for i in df['Prod. year'].index:\n",
    "       if df['Prod. year'].loc[i]<lb:\n",
    "             df['Prod. year'].loc[i]=lc\n",
    "sns.boxplot(df['Prod. year'])"
   ]
  },
  {
   "cell_type": "markdown",
   "id": "common-devil",
   "metadata": {
    "papermill": {
     "duration": 0.092313,
     "end_time": "2021-07-18T07:22:15.411028",
     "exception": false,
     "start_time": "2021-07-18T07:22:15.318715",
     "status": "completed"
    },
    "tags": []
   },
   "source": [
    "Price and mileage have one large outlier,hence treating outliers on both columns"
   ]
  },
  {
   "cell_type": "code",
   "execution_count": 37,
   "id": "discrete-nation",
   "metadata": {
    "execution": {
     "iopub.execute_input": "2021-07-18T07:22:15.605286Z",
     "iopub.status.busy": "2021-07-18T07:22:15.604598Z",
     "iopub.status.idle": "2021-07-18T07:22:17.112021Z",
     "shell.execute_reply": "2021-07-18T07:22:17.112768Z",
     "shell.execute_reply.started": "2021-07-18T07:18:08.767409Z"
    },
    "papermill": {
     "duration": 1.609863,
     "end_time": "2021-07-18T07:22:17.112996",
     "exception": false,
     "start_time": "2021-07-18T07:22:15.503133",
     "status": "completed"
    },
    "tags": []
   },
   "outputs": [
    {
     "name": "stderr",
     "output_type": "stream",
     "text": [
      "C:\\Users\\sharm\\anaconda3\\lib\\site-packages\\pandas\\core\\indexing.py:1637: SettingWithCopyWarning: \n",
      "A value is trying to be set on a copy of a slice from a DataFrame\n",
      "\n",
      "See the caveats in the documentation: https://pandas.pydata.org/pandas-docs/stable/user_guide/indexing.html#returning-a-view-versus-a-copy\n",
      "  self._setitem_single_block(indexer, value, name)\n",
      "C:\\Users\\sharm\\anaconda3\\lib\\site-packages\\seaborn\\_decorators.py:36: FutureWarning: Pass the following variable as a keyword arg: x. From version 0.12, the only valid positional argument will be `data`, and passing other arguments without an explicit keyword will result in an error or misinterpretation.\n",
      "  warnings.warn(\n"
     ]
    },
    {
     "data": {
      "text/plain": [
       "<AxesSubplot:xlabel='Price'>"
      ]
     },
     "execution_count": 37,
     "metadata": {},
     "output_type": "execute_result"
    },
    {
     "data": {
      "image/png": "[encoded data removed]",
      "text/plain": [
       "<Figure size 432x288 with 1 Axes>"
      ]
     },
     "metadata": {
      "needs_background": "light"
     },
     "output_type": "display_data"
    }
   ],
   "source": [
    "q1=df['Price'].quantile(0.25)\n",
    "q3=df['Price'].quantile(0.75)\n",
    "iqr=q3-q1\n",
    "ub=q3+1.5*iqr\n",
    "lb=q1-1.5*iqr\n",
    "uc=df['Price'].quantile(0.95)\n",
    "lc=df['Price'].quantile(0.05)\n",
    "for i in df['Price'].index:\n",
    "        if df['Price'].loc[i]>ub:\n",
    "            df['Price'].loc[i]=uc\n",
    "        if df['Price'].loc[i]<lb:\n",
    "             df['Price'].loc[i]=lc\n",
    "sns.boxplot(df['Price'])"
   ]
  },
  {
   "cell_type": "code",
   "execution_count": 38,
   "id": "alpha-photographer",
   "metadata": {
    "execution": {
     "iopub.execute_input": "2021-07-18T07:22:17.314767Z",
     "iopub.status.busy": "2021-07-18T07:22:17.313526Z",
     "iopub.status.idle": "2021-07-18T07:22:18.584496Z",
     "shell.execute_reply": "2021-07-18T07:22:18.583974Z",
     "shell.execute_reply.started": "2021-07-18T07:18:09.953659Z"
    },
    "papermill": {
     "duration": 1.37442,
     "end_time": "2021-07-18T07:22:18.584637",
     "exception": false,
     "start_time": "2021-07-18T07:22:17.210217",
     "status": "completed"
    },
    "tags": []
   },
   "outputs": [
    {
     "name": "stderr",
     "output_type": "stream",
     "text": [
      "C:\\Users\\sharm\\anaconda3\\lib\\site-packages\\pandas\\core\\indexing.py:1637: SettingWithCopyWarning: \n",
      "A value is trying to be set on a copy of a slice from a DataFrame\n",
      "\n",
      "See the caveats in the documentation: https://pandas.pydata.org/pandas-docs/stable/user_guide/indexing.html#returning-a-view-versus-a-copy\n",
      "  self._setitem_single_block(indexer, value, name)\n",
      "C:\\Users\\sharm\\anaconda3\\lib\\site-packages\\seaborn\\_decorators.py:36: FutureWarning: Pass the following variable as a keyword arg: x. From version 0.12, the only valid positional argument will be `data`, and passing other arguments without an explicit keyword will result in an error or misinterpretation.\n",
      "  warnings.warn(\n"
     ]
    },
    {
     "data": {
      "text/plain": [
       "<AxesSubplot:xlabel='Mileage'>"
      ]
     },
     "execution_count": 38,
     "metadata": {},
     "output_type": "execute_result"
    },
    {
     "data": {
      "image/png": "[encoded data removed]",
      "text/plain": [
       "<Figure size 432x288 with 1 Axes>"
      ]
     },
     "metadata": {
      "needs_background": "light"
     },
     "output_type": "display_data"
    }
   ],
   "source": [
    "q1=df['Mileage'].quantile(0.25)\n",
    "q3=df['Mileage'].quantile(0.75)\n",
    "iqr=q3-q1\n",
    "ub=q3+1.5*iqr\n",
    "lb=q1-1.5*iqr\n",
    "uc=df['Mileage'].quantile(0.95)\n",
    "lc=df['Mileage'].quantile(0.05)\n",
    "for i in df['Mileage'].index:\n",
    "    if df['Mileage'].loc[i]>ub:\n",
    "        df['Mileage'].loc[i]=uc\n",
    "    if df['Mileage'].loc[i]<lb:\n",
    "        df['Mileage'].loc[i]=lc\n",
    "sns.boxplot(df['Mileage'])        "
   ]
  },
  {
   "cell_type": "code",
   "execution_count": 39,
   "id": "cross-subdivision",
   "metadata": {
    "execution": {
     "iopub.execute_input": "2021-07-18T07:22:18.827305Z",
     "iopub.status.busy": "2021-07-18T07:22:18.815120Z",
     "iopub.status.idle": "2021-07-18T07:22:21.574813Z",
     "shell.execute_reply": "2021-07-18T07:22:21.575347Z",
     "shell.execute_reply.started": "2021-07-18T07:18:10.964085Z"
    },
    "papermill": {
     "duration": 2.895863,
     "end_time": "2021-07-18T07:22:21.575520",
     "exception": false,
     "start_time": "2021-07-18T07:22:18.679657",
     "status": "completed"
    },
    "tags": []
   },
   "outputs": [
    {
     "data": {
      "image/png": "[encoded data removed]",
      "text/plain": [
       "<Figure size 1800x1440 with 9 Axes>"
      ]
     },
     "metadata": {
      "needs_background": "light"
     },
     "output_type": "display_data"
    }
   ],
   "source": [
    "fig, ax = plt.subplots(nrows=3,ncols=3, figsize=(25, 20))\n",
    "for variable,subplot in zip(df[df_cat.columns].columns,ax.flatten()):\n",
    "    countplot = sns.countplot(x=df[variable],ax=subplot )\n",
    "    countplot.set_xlabel(variable, fontsize = 30)\n",
    "plt.tight_layout()   \n",
    "plt.show()"
   ]
  },
  {
   "cell_type": "code",
   "execution_count": 40,
   "id": "funny-reception",
   "metadata": {
    "execution": {
     "iopub.execute_input": "2021-07-18T07:22:21.784695Z",
     "iopub.status.busy": "2021-07-18T07:22:21.783941Z",
     "iopub.status.idle": "2021-07-18T07:22:21.786779Z",
     "shell.execute_reply": "2021-07-18T07:22:21.787339Z",
     "shell.execute_reply.started": "2021-07-18T07:18:13.587824Z"
    },
    "papermill": {
     "duration": 0.113345,
     "end_time": "2021-07-18T07:22:21.787517",
     "exception": false,
     "start_time": "2021-07-18T07:22:21.674172",
     "status": "completed"
    },
    "tags": []
   },
   "outputs": [
    {
     "data": {
      "text/plain": [
       "Black            5033\n",
       "White            4489\n",
       "Silver           3792\n",
       "Grey             2375\n",
       "Blue             1396\n",
       "Red               639\n",
       "Green             322\n",
       "Orange            253\n",
       "Brown             187\n",
       "Carnelian red     179\n",
       "Golden            145\n",
       "Beige             134\n",
       "Sky blue          122\n",
       "Yellow            106\n",
       "Purple             39\n",
       "Pink               26\n",
       "Name: Color, dtype: int64"
      ]
     },
     "execution_count": 40,
     "metadata": {},
     "output_type": "execute_result"
    }
   ],
   "source": [
    "df['Color'].value_counts()"
   ]
  },
  {
   "cell_type": "code",
   "execution_count": 41,
   "id": "painful-sample",
   "metadata": {
    "execution": {
     "iopub.execute_input": "2021-07-18T07:22:21.995354Z",
     "iopub.status.busy": "2021-07-18T07:22:21.994688Z",
     "iopub.status.idle": "2021-07-18T07:22:22.010688Z",
     "shell.execute_reply": "2021-07-18T07:22:22.011186Z",
     "shell.execute_reply.started": "2021-07-18T07:18:13.602716Z"
    },
    "papermill": {
     "duration": 0.118514,
     "end_time": "2021-07-18T07:22:22.011394",
     "exception": false,
     "start_time": "2021-07-18T07:22:21.892880",
     "status": "completed"
    },
    "tags": []
   },
   "outputs": [],
   "source": [
    "color=df.groupby('Color')['Price'].mean()\n",
    "df['Color']=df['Color'].map(color)\n",
    "df_test['Color']=df_test['Color'].map(color)"
   ]
  },
  {
   "cell_type": "code",
   "execution_count": 42,
   "id": "incorporated-single",
   "metadata": {
    "execution": {
     "iopub.execute_input": "2021-07-18T07:22:22.213725Z",
     "iopub.status.busy": "2021-07-18T07:22:22.213077Z",
     "iopub.status.idle": "2021-07-18T07:22:22.228423Z",
     "shell.execute_reply": "2021-07-18T07:22:22.228928Z",
     "shell.execute_reply.started": "2021-07-18T07:18:13.625075Z"
    },
    "papermill": {
     "duration": 0.118624,
     "end_time": "2021-07-18T07:22:22.229099",
     "exception": false,
     "start_time": "2021-07-18T07:22:22.110475",
     "status": "completed"
    },
    "tags": []
   },
   "outputs": [],
   "source": [
    "mft=df.groupby('Manufacturer')['Price'].mean()\n",
    "df['Manufacturer']=df['Manufacturer'].map(mft)\n",
    "df_test['Manufacturer']=df_test['Manufacturer'].map(mft)"
   ]
  },
  {
   "cell_type": "code",
   "execution_count": 43,
   "id": "broadband-present",
   "metadata": {
    "execution": {
     "iopub.execute_input": "2021-07-18T07:22:22.430456Z",
     "iopub.status.busy": "2021-07-18T07:22:22.429737Z",
     "iopub.status.idle": "2021-07-18T07:22:22.434754Z",
     "shell.execute_reply": "2021-07-18T07:22:22.435311Z",
     "shell.execute_reply.started": "2021-07-18T07:18:13.641058Z"
    },
    "papermill": {
     "duration": 0.107034,
     "end_time": "2021-07-18T07:22:22.435485",
     "exception": false,
     "start_time": "2021-07-18T07:22:22.328451",
     "status": "completed"
    },
    "tags": []
   },
   "outputs": [],
   "source": [
    "airbags=df['Airbags'].value_counts()"
   ]
  },
  {
   "cell_type": "code",
   "execution_count": 44,
   "id": "divided-casting",
   "metadata": {
    "execution": {
     "iopub.execute_input": "2021-07-18T07:22:22.635286Z",
     "iopub.status.busy": "2021-07-18T07:22:22.634649Z",
     "iopub.status.idle": "2021-07-18T07:22:22.640154Z",
     "shell.execute_reply": "2021-07-18T07:22:22.639664Z",
     "shell.execute_reply.started": "2021-07-18T07:18:13.648574Z"
    },
    "papermill": {
     "duration": 0.106432,
     "end_time": "2021-07-18T07:22:22.640339",
     "exception": false,
     "start_time": "2021-07-18T07:22:22.533907",
     "status": "completed"
    },
    "tags": []
   },
   "outputs": [],
   "source": [
    "freq=airbags[airbags<500].index"
   ]
  },
  {
   "cell_type": "code",
   "execution_count": 45,
   "id": "mathematical-phrase",
   "metadata": {
    "execution": {
     "iopub.execute_input": "2021-07-18T07:22:22.846746Z",
     "iopub.status.busy": "2021-07-18T07:22:22.845999Z",
     "iopub.status.idle": "2021-07-18T07:22:23.526945Z",
     "shell.execute_reply": "2021-07-18T07:22:23.526346Z",
     "shell.execute_reply.started": "2021-07-18T07:18:13.660901Z"
    },
    "papermill": {
     "duration": 0.7883,
     "end_time": "2021-07-18T07:22:23.527091",
     "exception": false,
     "start_time": "2021-07-18T07:22:22.738791",
     "status": "completed"
    },
    "tags": []
   },
   "outputs": [
    {
     "name": "stderr",
     "output_type": "stream",
     "text": [
      "<ipython-input-45-2d986ed09f8a>:3: SettingWithCopyWarning: \n",
      "A value is trying to be set on a copy of a slice from a DataFrame\n",
      "\n",
      "See the caveats in the documentation: https://pandas.pydata.org/pandas-docs/stable/user_guide/indexing.html#returning-a-view-versus-a-copy\n",
      "  df['Airbags'][i]='Others'\n",
      "C:\\Users\\sharm\\anaconda3\\lib\\site-packages\\pandas\\core\\indexing.py:1637: SettingWithCopyWarning: \n",
      "A value is trying to be set on a copy of a slice from a DataFrame\n",
      "\n",
      "See the caveats in the documentation: https://pandas.pydata.org/pandas-docs/stable/user_guide/indexing.html#returning-a-view-versus-a-copy\n",
      "  self._setitem_single_block(indexer, value, name)\n",
      "<ipython-input-45-2d986ed09f8a>:6: SettingWithCopyWarning: \n",
      "A value is trying to be set on a copy of a slice from a DataFrame\n",
      "\n",
      "See the caveats in the documentation: https://pandas.pydata.org/pandas-docs/stable/user_guide/indexing.html#returning-a-view-versus-a-copy\n",
      "  df_test['Airbags'][i]='Others'\n"
     ]
    }
   ],
   "source": [
    "for i in range(len(df['Airbags'])):\n",
    "    if df['Airbags'][i] in freq:\n",
    "        df['Airbags'][i]='Others'\n",
    "for i in range(len(df_test['Airbags'])):\n",
    "    if df_test['Airbags'][i] in freq:\n",
    "        df_test['Airbags'][i]='Others'"
   ]
  },
  {
   "cell_type": "code",
   "execution_count": 46,
   "id": "modular-hazard",
   "metadata": {
    "execution": {
     "iopub.execute_input": "2021-07-18T07:22:23.730736Z",
     "iopub.status.busy": "2021-07-18T07:22:23.729919Z",
     "iopub.status.idle": "2021-07-18T07:22:23.736895Z",
     "shell.execute_reply": "2021-07-18T07:22:23.737507Z",
     "shell.execute_reply.started": "2021-07-18T07:18:14.243562Z"
    },
    "papermill": {
     "duration": 0.110829,
     "end_time": "2021-07-18T07:22:23.737695",
     "exception": false,
     "start_time": "2021-07-18T07:22:23.626866",
     "status": "completed"
    },
    "tags": []
   },
   "outputs": [],
   "source": [
    "air_mean=df.groupby('Airbags')['Price'].mean()"
   ]
  },
  {
   "cell_type": "code",
   "execution_count": 47,
   "id": "valued-elevation",
   "metadata": {
    "execution": {
     "iopub.execute_input": "2021-07-18T07:22:23.941807Z",
     "iopub.status.busy": "2021-07-18T07:22:23.941137Z",
     "iopub.status.idle": "2021-07-18T07:22:23.948540Z",
     "shell.execute_reply": "2021-07-18T07:22:23.949044Z",
     "shell.execute_reply.started": "2021-07-18T07:18:14.252978Z"
    },
    "papermill": {
     "duration": 0.110229,
     "end_time": "2021-07-18T07:22:23.949213",
     "exception": false,
     "start_time": "2021-07-18T07:22:23.838984",
     "status": "completed"
    },
    "tags": []
   },
   "outputs": [],
   "source": [
    "df['Airbags']=df['Airbags'].map(air_mean)\n",
    "df_test['Airbags']=df_test['Airbags'].map(air_mean)"
   ]
  },
  {
   "cell_type": "code",
   "execution_count": 48,
   "id": "practical-thanksgiving",
   "metadata": {
    "execution": {
     "iopub.execute_input": "2021-07-18T07:22:24.152580Z",
     "iopub.status.busy": "2021-07-18T07:22:24.151854Z",
     "iopub.status.idle": "2021-07-18T07:22:24.162924Z",
     "shell.execute_reply": "2021-07-18T07:22:24.163487Z",
     "shell.execute_reply.started": "2021-07-18T07:18:14.267885Z"
    },
    "papermill": {
     "duration": 0.113922,
     "end_time": "2021-07-18T07:22:24.163658",
     "exception": false,
     "start_time": "2021-07-18T07:22:24.049736",
     "status": "completed"
    },
    "tags": []
   },
   "outputs": [
    {
     "data": {
      "text/plain": [
       "4-5    18332\n",
       "2-3      777\n",
       ">5       128\n",
       "Name: Doors, dtype: int64"
      ]
     },
     "execution_count": 48,
     "metadata": {},
     "output_type": "execute_result"
    }
   ],
   "source": [
    "df['Doors'].value_counts()"
   ]
  },
  {
   "cell_type": "code",
   "execution_count": 49,
   "id": "reasonable-calculation",
   "metadata": {
    "execution": {
     "iopub.execute_input": "2021-07-18T07:22:24.366032Z",
     "iopub.status.busy": "2021-07-18T07:22:24.365333Z",
     "iopub.status.idle": "2021-07-18T07:22:24.378178Z",
     "shell.execute_reply": "2021-07-18T07:22:24.378676Z",
     "shell.execute_reply.started": "2021-07-18T07:18:14.288923Z"
    },
    "papermill": {
     "duration": 0.116145,
     "end_time": "2021-07-18T07:22:24.378873",
     "exception": false,
     "start_time": "2021-07-18T07:22:24.262728",
     "status": "completed"
    },
    "tags": []
   },
   "outputs": [],
   "source": [
    "door=df.groupby('Doors')['Price'].mean()\n",
    "df['Doors']=df['Doors'].map(door)\n",
    "df_test['Doors']=df_test['Doors'].map(door)"
   ]
  },
  {
   "cell_type": "code",
   "execution_count": 50,
   "id": "killing-education",
   "metadata": {
    "execution": {
     "iopub.execute_input": "2021-07-18T07:22:24.581268Z",
     "iopub.status.busy": "2021-07-18T07:22:24.580603Z",
     "iopub.status.idle": "2021-07-18T07:22:24.589668Z",
     "shell.execute_reply": "2021-07-18T07:22:24.589021Z",
     "shell.execute_reply.started": "2021-07-18T07:18:14.308654Z"
    },
    "papermill": {
     "duration": 0.111438,
     "end_time": "2021-07-18T07:22:24.589816",
     "exception": false,
     "start_time": "2021-07-18T07:22:24.478378",
     "status": "completed"
    },
    "tags": []
   },
   "outputs": [
    {
     "data": {
      "text/plain": [
       "4.0     14367\n",
       "6.0      3462\n",
       "8.0       991\n",
       "5.0       169\n",
       "3.0       107\n",
       "2.0        42\n",
       "1.0        38\n",
       "12.0       38\n",
       "10.0       12\n",
       "16.0        5\n",
       "7.0         4\n",
       "14.0        1\n",
       "9.0         1\n",
       "Name: Cylinders, dtype: int64"
      ]
     },
     "execution_count": 50,
     "metadata": {},
     "output_type": "execute_result"
    }
   ],
   "source": [
    "df['Cylinders'].value_counts()"
   ]
  },
  {
   "cell_type": "code",
   "execution_count": 51,
   "id": "jewish-writer",
   "metadata": {
    "execution": {
     "iopub.execute_input": "2021-07-18T07:22:24.796690Z",
     "iopub.status.busy": "2021-07-18T07:22:24.795980Z",
     "iopub.status.idle": "2021-07-18T07:22:24.803474Z",
     "shell.execute_reply": "2021-07-18T07:22:24.802883Z",
     "shell.execute_reply.started": "2021-07-18T07:18:14.318048Z"
    },
    "papermill": {
     "duration": 0.1134,
     "end_time": "2021-07-18T07:22:24.803611",
     "exception": false,
     "start_time": "2021-07-18T07:22:24.690211",
     "status": "completed"
    },
    "tags": []
   },
   "outputs": [],
   "source": [
    "cyl=df.groupby('Cylinders')['Price'].mean()\n",
    "df['Cylinders']=df['Cylinders'].map(cyl)\n",
    "df_test['Cylinders']=df_test['Cylinders'].map(cyl)"
   ]
  },
  {
   "cell_type": "code",
   "execution_count": 52,
   "id": "buried-character",
   "metadata": {
    "execution": {
     "iopub.execute_input": "2021-07-18T07:22:25.007661Z",
     "iopub.status.busy": "2021-07-18T07:22:25.007012Z",
     "iopub.status.idle": "2021-07-18T07:22:25.019705Z",
     "shell.execute_reply": "2021-07-18T07:22:25.020277Z",
     "shell.execute_reply.started": "2021-07-18T07:18:14.335518Z"
    },
    "papermill": {
     "duration": 0.115479,
     "end_time": "2021-07-18T07:22:25.020461",
     "exception": false,
     "start_time": "2021-07-18T07:22:24.904982",
     "status": "completed"
    },
    "tags": []
   },
   "outputs": [],
   "source": [
    "dw=df.groupby('Drive wheels')['Price'].mean()\n",
    "df['Drive wheels']=df['Drive wheels'].map(dw)\n",
    "df_test['Drive wheels']=df_test['Drive wheels'].map(dw)"
   ]
  },
  {
   "cell_type": "code",
   "execution_count": 53,
   "id": "olympic-corporation",
   "metadata": {
    "execution": {
     "iopub.execute_input": "2021-07-18T07:22:25.223088Z",
     "iopub.status.busy": "2021-07-18T07:22:25.222480Z",
     "iopub.status.idle": "2021-07-18T07:22:25.236466Z",
     "shell.execute_reply": "2021-07-18T07:22:25.235872Z",
     "shell.execute_reply.started": "2021-07-18T07:18:14.353922Z"
    },
    "papermill": {
     "duration": 0.116248,
     "end_time": "2021-07-18T07:22:25.236625",
     "exception": false,
     "start_time": "2021-07-18T07:22:25.120377",
     "status": "completed"
    },
    "tags": []
   },
   "outputs": [],
   "source": [
    "gb=df.groupby('Gear box type')['Price'].mean()\n",
    "df['Gear box type']=df['Gear box type'].map(gb)\n",
    "df_test['Gear box type']=df_test['Gear box type'].map(gb)"
   ]
  },
  {
   "cell_type": "code",
   "execution_count": 54,
   "id": "fifth-recycling",
   "metadata": {
    "execution": {
     "iopub.execute_input": "2021-07-18T07:22:25.444453Z",
     "iopub.status.busy": "2021-07-18T07:22:25.443695Z",
     "iopub.status.idle": "2021-07-18T07:22:25.453739Z",
     "shell.execute_reply": "2021-07-18T07:22:25.453090Z",
     "shell.execute_reply.started": "2021-07-18T07:18:14.369295Z"
    },
    "papermill": {
     "duration": 0.116705,
     "end_time": "2021-07-18T07:22:25.453888",
     "exception": false,
     "start_time": "2021-07-18T07:22:25.337183",
     "status": "completed"
    },
    "tags": []
   },
   "outputs": [],
   "source": [
    "fuel=df.groupby('Fuel type')['Price'].mean()\n",
    "df['Fuel type']=df['Fuel type'].map(fuel)\n",
    "df_test['Fuel type']=df_test['Fuel type'].map(fuel)"
   ]
  },
  {
   "cell_type": "code",
   "execution_count": 55,
   "id": "cordless-large",
   "metadata": {
    "execution": {
     "iopub.execute_input": "2021-07-18T07:22:25.656531Z",
     "iopub.status.busy": "2021-07-18T07:22:25.655850Z",
     "iopub.status.idle": "2021-07-18T07:22:25.670106Z",
     "shell.execute_reply": "2021-07-18T07:22:25.670725Z",
     "shell.execute_reply.started": "2021-07-18T07:18:14.386162Z"
    },
    "papermill": {
     "duration": 0.116959,
     "end_time": "2021-07-18T07:22:25.670913",
     "exception": false,
     "start_time": "2021-07-18T07:22:25.553954",
     "status": "completed"
    },
    "tags": []
   },
   "outputs": [],
   "source": [
    "cat=df.groupby('Category')['Price'].mean()\n",
    "df['Category']=df['Category'].map(cat)\n",
    "df_test['Category']=df_test['Category'].map(cat)"
   ]
  },
  {
   "cell_type": "code",
   "execution_count": 56,
   "id": "behavioral-graduate",
   "metadata": {
    "execution": {
     "iopub.execute_input": "2021-07-18T07:22:25.886822Z",
     "iopub.status.busy": "2021-07-18T07:22:25.885553Z",
     "iopub.status.idle": "2021-07-18T07:22:25.916378Z",
     "shell.execute_reply": "2021-07-18T07:22:25.915633Z",
     "shell.execute_reply.started": "2021-07-18T07:18:14.405754Z"
    },
    "papermill": {
     "duration": 0.144649,
     "end_time": "2021-07-18T07:22:25.916552",
     "exception": false,
     "start_time": "2021-07-18T07:22:25.771903",
     "status": "completed"
    },
    "tags": []
   },
   "outputs": [
    {
     "data": {
      "text/html": [
       "<div>\n",
       "<style scoped>\n",
       "    .dataframe tbody tr th:only-of-type {\n",
       "        vertical-align: middle;\n",
       "    }\n",
       "\n",
       "    .dataframe tbody tr th {\n",
       "        vertical-align: top;\n",
       "    }\n",
       "\n",
       "    .dataframe thead th {\n",
       "        text-align: right;\n",
       "    }\n",
       "</style>\n",
       "<table border=\"1\" class=\"dataframe\">\n",
       "  <thead>\n",
       "    <tr style=\"text-align: right;\">\n",
       "      <th></th>\n",
       "      <th>Price</th>\n",
       "      <th>Levy</th>\n",
       "      <th>Manufacturer</th>\n",
       "      <th>Prod. year</th>\n",
       "      <th>Category</th>\n",
       "      <th>Leather interior</th>\n",
       "      <th>Fuel type</th>\n",
       "      <th>Engine volume</th>\n",
       "      <th>Mileage</th>\n",
       "      <th>Cylinders</th>\n",
       "      <th>Gear box type</th>\n",
       "      <th>Drive wheels</th>\n",
       "      <th>Doors</th>\n",
       "      <th>Wheel</th>\n",
       "      <th>Color</th>\n",
       "      <th>Airbags</th>\n",
       "      <th>Turbo</th>\n",
       "    </tr>\n",
       "  </thead>\n",
       "  <tbody>\n",
       "    <tr>\n",
       "      <th>0</th>\n",
       "      <td>13328.0</td>\n",
       "      <td>1399</td>\n",
       "      <td>16547.970468</td>\n",
       "      <td>2010.0</td>\n",
       "      <td>21105.256897</td>\n",
       "      <td>Yes</td>\n",
       "      <td>10634.534377</td>\n",
       "      <td>3500.0</td>\n",
       "      <td>186005.0</td>\n",
       "      <td>14614.252166</td>\n",
       "      <td>15186.405801</td>\n",
       "      <td>16370.348940</td>\n",
       "      <td>16034.161521</td>\n",
       "      <td>Left wheel</td>\n",
       "      <td>14745.363397</td>\n",
       "      <td>12156.788115</td>\n",
       "      <td>No</td>\n",
       "    </tr>\n",
       "    <tr>\n",
       "      <th>1</th>\n",
       "      <td>16621.0</td>\n",
       "      <td>1018</td>\n",
       "      <td>14686.131899</td>\n",
       "      <td>2011.0</td>\n",
       "      <td>21105.256897</td>\n",
       "      <td>No</td>\n",
       "      <td>15804.373005</td>\n",
       "      <td>3000.0</td>\n",
       "      <td>192000.0</td>\n",
       "      <td>14614.252166</td>\n",
       "      <td>22741.560928</td>\n",
       "      <td>16370.348940</td>\n",
       "      <td>16034.161521</td>\n",
       "      <td>Left wheel</td>\n",
       "      <td>16850.507848</td>\n",
       "      <td>18034.301617</td>\n",
       "      <td>No</td>\n",
       "    </tr>\n",
       "    <tr>\n",
       "      <th>2</th>\n",
       "      <td>8467.0</td>\n",
       "      <td>0</td>\n",
       "      <td>13592.452405</td>\n",
       "      <td>2006.0</td>\n",
       "      <td>11312.522304</td>\n",
       "      <td>No</td>\n",
       "      <td>15804.373005</td>\n",
       "      <td>1300.0</td>\n",
       "      <td>200000.0</td>\n",
       "      <td>16049.410663</td>\n",
       "      <td>14583.975871</td>\n",
       "      <td>15950.339055</td>\n",
       "      <td>16034.161521</td>\n",
       "      <td>Right-hand drive</td>\n",
       "      <td>16850.507848</td>\n",
       "      <td>10450.899625</td>\n",
       "      <td>No</td>\n",
       "    </tr>\n",
       "    <tr>\n",
       "      <th>3</th>\n",
       "      <td>3607.0</td>\n",
       "      <td>862</td>\n",
       "      <td>14109.150315</td>\n",
       "      <td>2011.0</td>\n",
       "      <td>21105.256897</td>\n",
       "      <td>Yes</td>\n",
       "      <td>10634.534377</td>\n",
       "      <td>2500.0</td>\n",
       "      <td>168966.0</td>\n",
       "      <td>16049.410663</td>\n",
       "      <td>15186.405801</td>\n",
       "      <td>16370.348940</td>\n",
       "      <td>16034.161521</td>\n",
       "      <td>Left wheel</td>\n",
       "      <td>16794.134106</td>\n",
       "      <td>11184.234927</td>\n",
       "      <td>No</td>\n",
       "    </tr>\n",
       "    <tr>\n",
       "      <th>4</th>\n",
       "      <td>11726.0</td>\n",
       "      <td>446</td>\n",
       "      <td>13592.452405</td>\n",
       "      <td>2014.0</td>\n",
       "      <td>11312.522304</td>\n",
       "      <td>Yes</td>\n",
       "      <td>15804.373005</td>\n",
       "      <td>1300.0</td>\n",
       "      <td>91901.0</td>\n",
       "      <td>16049.410663</td>\n",
       "      <td>15186.405801</td>\n",
       "      <td>15950.339055</td>\n",
       "      <td>16034.161521</td>\n",
       "      <td>Left wheel</td>\n",
       "      <td>14745.363397</td>\n",
       "      <td>21575.066117</td>\n",
       "      <td>No</td>\n",
       "    </tr>\n",
       "  </tbody>\n",
       "</table>\n",
       "</div>"
      ],
      "text/plain": [
       "     Price  Levy  Manufacturer  Prod. year      Category Leather interior  \\\n",
       "0  13328.0  1399  16547.970468      2010.0  21105.256897              Yes   \n",
       "1  16621.0  1018  14686.131899      2011.0  21105.256897               No   \n",
       "2   8467.0     0  13592.452405      2006.0  11312.522304               No   \n",
       "3   3607.0   862  14109.150315      2011.0  21105.256897              Yes   \n",
       "4  11726.0   446  13592.452405      2014.0  11312.522304              Yes   \n",
       "\n",
       "      Fuel type  Engine volume   Mileage     Cylinders  Gear box type  \\\n",
       "0  10634.534377         3500.0  186005.0  14614.252166   15186.405801   \n",
       "1  15804.373005         3000.0  192000.0  14614.252166   22741.560928   \n",
       "2  15804.373005         1300.0  200000.0  16049.410663   14583.975871   \n",
       "3  10634.534377         2500.0  168966.0  16049.410663   15186.405801   \n",
       "4  15804.373005         1300.0   91901.0  16049.410663   15186.405801   \n",
       "\n",
       "   Drive wheels         Doors             Wheel         Color       Airbags  \\\n",
       "0  16370.348940  16034.161521        Left wheel  14745.363397  12156.788115   \n",
       "1  16370.348940  16034.161521        Left wheel  16850.507848  18034.301617   \n",
       "2  15950.339055  16034.161521  Right-hand drive  16850.507848  10450.899625   \n",
       "3  16370.348940  16034.161521        Left wheel  16794.134106  11184.234927   \n",
       "4  15950.339055  16034.161521        Left wheel  14745.363397  21575.066117   \n",
       "\n",
       "  Turbo  \n",
       "0    No  \n",
       "1    No  \n",
       "2    No  \n",
       "3    No  \n",
       "4    No  "
      ]
     },
     "execution_count": 56,
     "metadata": {},
     "output_type": "execute_result"
    }
   ],
   "source": [
    "df.head()"
   ]
  },
  {
   "cell_type": "code",
   "execution_count": 57,
   "id": "headed-calgary",
   "metadata": {
    "execution": {
     "iopub.execute_input": "2021-07-18T07:22:26.140187Z",
     "iopub.status.busy": "2021-07-18T07:22:26.139516Z",
     "iopub.status.idle": "2021-07-18T07:22:26.170492Z",
     "shell.execute_reply": "2021-07-18T07:22:26.169905Z",
     "shell.execute_reply.started": "2021-07-18T07:18:14.432465Z"
    },
    "papermill": {
     "duration": 0.137911,
     "end_time": "2021-07-18T07:22:26.170649",
     "exception": false,
     "start_time": "2021-07-18T07:22:26.032738",
     "status": "completed"
    },
    "tags": []
   },
   "outputs": [],
   "source": [
    "df_enc=pd.get_dummies(df,drop_first=True)\n",
    "df_test=pd.get_dummies(df_test,drop_first=True)"
   ]
  },
  {
   "cell_type": "code",
   "execution_count": 58,
   "id": "cardiac-catalog",
   "metadata": {
    "execution": {
     "iopub.execute_input": "2021-07-18T07:22:26.394601Z",
     "iopub.status.busy": "2021-07-18T07:22:26.383046Z",
     "iopub.status.idle": "2021-07-18T07:22:26.397492Z",
     "shell.execute_reply": "2021-07-18T07:22:26.398038Z",
     "shell.execute_reply.started": "2021-07-18T07:18:14.469615Z"
    },
    "papermill": {
     "duration": 0.126943,
     "end_time": "2021-07-18T07:22:26.398199",
     "exception": false,
     "start_time": "2021-07-18T07:22:26.271256",
     "status": "completed"
    },
    "tags": []
   },
   "outputs": [
    {
     "data": {
      "text/html": [
       "<div>\n",
       "<style scoped>\n",
       "    .dataframe tbody tr th:only-of-type {\n",
       "        vertical-align: middle;\n",
       "    }\n",
       "\n",
       "    .dataframe tbody tr th {\n",
       "        vertical-align: top;\n",
       "    }\n",
       "\n",
       "    .dataframe thead th {\n",
       "        text-align: right;\n",
       "    }\n",
       "</style>\n",
       "<table border=\"1\" class=\"dataframe\">\n",
       "  <thead>\n",
       "    <tr style=\"text-align: right;\">\n",
       "      <th></th>\n",
       "      <th>Price</th>\n",
       "      <th>Levy</th>\n",
       "      <th>Manufacturer</th>\n",
       "      <th>Prod. year</th>\n",
       "      <th>Category</th>\n",
       "      <th>Fuel type</th>\n",
       "      <th>Engine volume</th>\n",
       "      <th>Mileage</th>\n",
       "      <th>Cylinders</th>\n",
       "      <th>Gear box type</th>\n",
       "      <th>Drive wheels</th>\n",
       "      <th>Doors</th>\n",
       "      <th>Color</th>\n",
       "      <th>Airbags</th>\n",
       "      <th>Leather interior_Yes</th>\n",
       "      <th>Wheel_Right-hand drive</th>\n",
       "      <th>Turbo_Yes</th>\n",
       "    </tr>\n",
       "  </thead>\n",
       "  <tbody>\n",
       "    <tr>\n",
       "      <th>0</th>\n",
       "      <td>13328.0</td>\n",
       "      <td>1399</td>\n",
       "      <td>16547.970468</td>\n",
       "      <td>2010.0</td>\n",
       "      <td>21105.256897</td>\n",
       "      <td>10634.534377</td>\n",
       "      <td>3500.0</td>\n",
       "      <td>186005.0</td>\n",
       "      <td>14614.252166</td>\n",
       "      <td>15186.405801</td>\n",
       "      <td>16370.348940</td>\n",
       "      <td>16034.161521</td>\n",
       "      <td>14745.363397</td>\n",
       "      <td>12156.788115</td>\n",
       "      <td>1</td>\n",
       "      <td>0</td>\n",
       "      <td>0</td>\n",
       "    </tr>\n",
       "    <tr>\n",
       "      <th>1</th>\n",
       "      <td>16621.0</td>\n",
       "      <td>1018</td>\n",
       "      <td>14686.131899</td>\n",
       "      <td>2011.0</td>\n",
       "      <td>21105.256897</td>\n",
       "      <td>15804.373005</td>\n",
       "      <td>3000.0</td>\n",
       "      <td>192000.0</td>\n",
       "      <td>14614.252166</td>\n",
       "      <td>22741.560928</td>\n",
       "      <td>16370.348940</td>\n",
       "      <td>16034.161521</td>\n",
       "      <td>16850.507848</td>\n",
       "      <td>18034.301617</td>\n",
       "      <td>0</td>\n",
       "      <td>0</td>\n",
       "      <td>0</td>\n",
       "    </tr>\n",
       "    <tr>\n",
       "      <th>2</th>\n",
       "      <td>8467.0</td>\n",
       "      <td>0</td>\n",
       "      <td>13592.452405</td>\n",
       "      <td>2006.0</td>\n",
       "      <td>11312.522304</td>\n",
       "      <td>15804.373005</td>\n",
       "      <td>1300.0</td>\n",
       "      <td>200000.0</td>\n",
       "      <td>16049.410663</td>\n",
       "      <td>14583.975871</td>\n",
       "      <td>15950.339055</td>\n",
       "      <td>16034.161521</td>\n",
       "      <td>16850.507848</td>\n",
       "      <td>10450.899625</td>\n",
       "      <td>0</td>\n",
       "      <td>1</td>\n",
       "      <td>0</td>\n",
       "    </tr>\n",
       "    <tr>\n",
       "      <th>3</th>\n",
       "      <td>3607.0</td>\n",
       "      <td>862</td>\n",
       "      <td>14109.150315</td>\n",
       "      <td>2011.0</td>\n",
       "      <td>21105.256897</td>\n",
       "      <td>10634.534377</td>\n",
       "      <td>2500.0</td>\n",
       "      <td>168966.0</td>\n",
       "      <td>16049.410663</td>\n",
       "      <td>15186.405801</td>\n",
       "      <td>16370.348940</td>\n",
       "      <td>16034.161521</td>\n",
       "      <td>16794.134106</td>\n",
       "      <td>11184.234927</td>\n",
       "      <td>1</td>\n",
       "      <td>0</td>\n",
       "      <td>0</td>\n",
       "    </tr>\n",
       "    <tr>\n",
       "      <th>4</th>\n",
       "      <td>11726.0</td>\n",
       "      <td>446</td>\n",
       "      <td>13592.452405</td>\n",
       "      <td>2014.0</td>\n",
       "      <td>11312.522304</td>\n",
       "      <td>15804.373005</td>\n",
       "      <td>1300.0</td>\n",
       "      <td>91901.0</td>\n",
       "      <td>16049.410663</td>\n",
       "      <td>15186.405801</td>\n",
       "      <td>15950.339055</td>\n",
       "      <td>16034.161521</td>\n",
       "      <td>14745.363397</td>\n",
       "      <td>21575.066117</td>\n",
       "      <td>1</td>\n",
       "      <td>0</td>\n",
       "      <td>0</td>\n",
       "    </tr>\n",
       "  </tbody>\n",
       "</table>\n",
       "</div>"
      ],
      "text/plain": [
       "     Price  Levy  Manufacturer  Prod. year      Category     Fuel type  \\\n",
       "0  13328.0  1399  16547.970468      2010.0  21105.256897  10634.534377   \n",
       "1  16621.0  1018  14686.131899      2011.0  21105.256897  15804.373005   \n",
       "2   8467.0     0  13592.452405      2006.0  11312.522304  15804.373005   \n",
       "3   3607.0   862  14109.150315      2011.0  21105.256897  10634.534377   \n",
       "4  11726.0   446  13592.452405      2014.0  11312.522304  15804.373005   \n",
       "\n",
       "   Engine volume   Mileage     Cylinders  Gear box type  Drive wheels  \\\n",
       "0         3500.0  186005.0  14614.252166   15186.405801  16370.348940   \n",
       "1         3000.0  192000.0  14614.252166   22741.560928  16370.348940   \n",
       "2         1300.0  200000.0  16049.410663   14583.975871  15950.339055   \n",
       "3         2500.0  168966.0  16049.410663   15186.405801  16370.348940   \n",
       "4         1300.0   91901.0  16049.410663   15186.405801  15950.339055   \n",
       "\n",
       "          Doors         Color       Airbags  Leather interior_Yes  \\\n",
       "0  16034.161521  14745.363397  12156.788115                     1   \n",
       "1  16034.161521  16850.507848  18034.301617                     0   \n",
       "2  16034.161521  16850.507848  10450.899625                     0   \n",
       "3  16034.161521  16794.134106  11184.234927                     1   \n",
       "4  16034.161521  14745.363397  21575.066117                     1   \n",
       "\n",
       "   Wheel_Right-hand drive  Turbo_Yes  \n",
       "0                       0          0  \n",
       "1                       0          0  \n",
       "2                       1          0  \n",
       "3                       0          0  \n",
       "4                       0          0  "
      ]
     },
     "execution_count": 58,
     "metadata": {},
     "output_type": "execute_result"
    }
   ],
   "source": [
    "df_enc.head()"
   ]
  },
  {
   "cell_type": "code",
   "execution_count": 59,
   "id": "bronze-drill",
   "metadata": {
    "execution": {
     "iopub.execute_input": "2021-07-18T07:22:26.603913Z",
     "iopub.status.busy": "2021-07-18T07:22:26.603277Z",
     "iopub.status.idle": "2021-07-18T07:22:26.623464Z",
     "shell.execute_reply": "2021-07-18T07:22:26.623986Z",
     "shell.execute_reply.started": "2021-07-18T07:18:14.495491Z"
    },
    "papermill": {
     "duration": 0.124746,
     "end_time": "2021-07-18T07:22:26.624152",
     "exception": false,
     "start_time": "2021-07-18T07:22:26.499406",
     "status": "completed"
    },
    "tags": []
   },
   "outputs": [
    {
     "data": {
      "text/html": [
       "<div>\n",
       "<style scoped>\n",
       "    .dataframe tbody tr th:only-of-type {\n",
       "        vertical-align: middle;\n",
       "    }\n",
       "\n",
       "    .dataframe tbody tr th {\n",
       "        vertical-align: top;\n",
       "    }\n",
       "\n",
       "    .dataframe thead th {\n",
       "        text-align: right;\n",
       "    }\n",
       "</style>\n",
       "<table border=\"1\" class=\"dataframe\">\n",
       "  <thead>\n",
       "    <tr style=\"text-align: right;\">\n",
       "      <th></th>\n",
       "      <th>Levy</th>\n",
       "      <th>Manufacturer</th>\n",
       "      <th>Prod. year</th>\n",
       "      <th>Category</th>\n",
       "      <th>Fuel type</th>\n",
       "      <th>Engine volume</th>\n",
       "      <th>Mileage</th>\n",
       "      <th>Cylinders</th>\n",
       "      <th>Gear box type</th>\n",
       "      <th>Drive wheels</th>\n",
       "      <th>Doors</th>\n",
       "      <th>Color</th>\n",
       "      <th>Airbags</th>\n",
       "      <th>Price</th>\n",
       "      <th>Leather interior_Yes</th>\n",
       "      <th>Wheel_Right-hand drive</th>\n",
       "      <th>Turbo_Yes</th>\n",
       "    </tr>\n",
       "  </thead>\n",
       "  <tbody>\n",
       "    <tr>\n",
       "      <th>0</th>\n",
       "      <td>0</td>\n",
       "      <td>11606.682211</td>\n",
       "      <td>2012</td>\n",
       "      <td>11312.522304</td>\n",
       "      <td>22634.487364</td>\n",
       "      <td>2000.0</td>\n",
       "      <td>127675.0</td>\n",
       "      <td>16049.410663</td>\n",
       "      <td>11288.031467</td>\n",
       "      <td>15950.339055</td>\n",
       "      <td>14638.061776</td>\n",
       "      <td>17941.784000</td>\n",
       "      <td>21360.625442</td>\n",
       "      <td>NaN</td>\n",
       "      <td>0</td>\n",
       "      <td>0</td>\n",
       "      <td>1</td>\n",
       "    </tr>\n",
       "    <tr>\n",
       "      <th>1</th>\n",
       "      <td>0</td>\n",
       "      <td>21591.518705</td>\n",
       "      <td>2012</td>\n",
       "      <td>13675.423993</td>\n",
       "      <td>15804.373005</td>\n",
       "      <td>2400.0</td>\n",
       "      <td>26000.0</td>\n",
       "      <td>16049.410663</td>\n",
       "      <td>22741.560928</td>\n",
       "      <td>15950.339055</td>\n",
       "      <td>16034.161521</td>\n",
       "      <td>17941.784000</td>\n",
       "      <td>21360.625442</td>\n",
       "      <td>NaN</td>\n",
       "      <td>1</td>\n",
       "      <td>0</td>\n",
       "      <td>0</td>\n",
       "    </tr>\n",
       "    <tr>\n",
       "      <th>2</th>\n",
       "      <td>0</td>\n",
       "      <td>10032.327273</td>\n",
       "      <td>2005</td>\n",
       "      <td>13675.423993</td>\n",
       "      <td>15804.373005</td>\n",
       "      <td>1500.0</td>\n",
       "      <td>168000.0</td>\n",
       "      <td>16049.410663</td>\n",
       "      <td>15186.405801</td>\n",
       "      <td>15950.339055</td>\n",
       "      <td>16034.161521</td>\n",
       "      <td>14055.114754</td>\n",
       "      <td>18034.301617</td>\n",
       "      <td>NaN</td>\n",
       "      <td>0</td>\n",
       "      <td>1</td>\n",
       "      <td>0</td>\n",
       "    </tr>\n",
       "    <tr>\n",
       "      <th>3</th>\n",
       "      <td>975</td>\n",
       "      <td>10278.894737</td>\n",
       "      <td>2012</td>\n",
       "      <td>21105.256897</td>\n",
       "      <td>15804.373005</td>\n",
       "      <td>3200.0</td>\n",
       "      <td>143000.0</td>\n",
       "      <td>14614.252166</td>\n",
       "      <td>15186.405801</td>\n",
       "      <td>16370.348940</td>\n",
       "      <td>16034.161521</td>\n",
       "      <td>14310.921920</td>\n",
       "      <td>12156.788115</td>\n",
       "      <td>NaN</td>\n",
       "      <td>1</td>\n",
       "      <td>0</td>\n",
       "      <td>0</td>\n",
       "    </tr>\n",
       "    <tr>\n",
       "      <th>4</th>\n",
       "      <td>0</td>\n",
       "      <td>7028.355164</td>\n",
       "      <td>1993</td>\n",
       "      <td>11312.522304</td>\n",
       "      <td>15804.373005</td>\n",
       "      <td>1600.0</td>\n",
       "      <td>200000.0</td>\n",
       "      <td>16049.410663</td>\n",
       "      <td>11288.031467</td>\n",
       "      <td>15950.339055</td>\n",
       "      <td>16034.161521</td>\n",
       "      <td>16850.507848</td>\n",
       "      <td>11184.234927</td>\n",
       "      <td>NaN</td>\n",
       "      <td>0</td>\n",
       "      <td>0</td>\n",
       "      <td>0</td>\n",
       "    </tr>\n",
       "  </tbody>\n",
       "</table>\n",
       "</div>"
      ],
      "text/plain": [
       "   Levy  Manufacturer  Prod. year      Category     Fuel type  Engine volume  \\\n",
       "0     0  11606.682211        2012  11312.522304  22634.487364         2000.0   \n",
       "1     0  21591.518705        2012  13675.423993  15804.373005         2400.0   \n",
       "2     0  10032.327273        2005  13675.423993  15804.373005         1500.0   \n",
       "3   975  10278.894737        2012  21105.256897  15804.373005         3200.0   \n",
       "4     0   7028.355164        1993  11312.522304  15804.373005         1600.0   \n",
       "\n",
       "    Mileage     Cylinders  Gear box type  Drive wheels         Doors  \\\n",
       "0  127675.0  16049.410663   11288.031467  15950.339055  14638.061776   \n",
       "1   26000.0  16049.410663   22741.560928  15950.339055  16034.161521   \n",
       "2  168000.0  16049.410663   15186.405801  15950.339055  16034.161521   \n",
       "3  143000.0  14614.252166   15186.405801  16370.348940  16034.161521   \n",
       "4  200000.0  16049.410663   11288.031467  15950.339055  16034.161521   \n",
       "\n",
       "          Color       Airbags  Price  Leather interior_Yes  \\\n",
       "0  17941.784000  21360.625442    NaN                     0   \n",
       "1  17941.784000  21360.625442    NaN                     1   \n",
       "2  14055.114754  18034.301617    NaN                     0   \n",
       "3  14310.921920  12156.788115    NaN                     1   \n",
       "4  16850.507848  11184.234927    NaN                     0   \n",
       "\n",
       "   Wheel_Right-hand drive  Turbo_Yes  \n",
       "0                       0          1  \n",
       "1                       0          0  \n",
       "2                       1          0  \n",
       "3                       0          0  \n",
       "4                       0          0  "
      ]
     },
     "execution_count": 59,
     "metadata": {},
     "output_type": "execute_result"
    }
   ],
   "source": [
    "df_test.head()"
   ]
  },
  {
   "cell_type": "markdown",
   "id": "normal-adjustment",
   "metadata": {
    "papermill": {
     "duration": 0.102292,
     "end_time": "2021-07-18T07:22:26.828497",
     "exception": false,
     "start_time": "2021-07-18T07:22:26.726205",
     "status": "completed"
    },
    "tags": []
   },
   "source": [
    "##  Model building"
   ]
  },
  {
   "cell_type": "code",
   "execution_count": 60,
   "id": "ideal-reason",
   "metadata": {
    "execution": {
     "iopub.execute_input": "2021-07-18T07:22:27.243971Z",
     "iopub.status.busy": "2021-07-18T07:22:27.243307Z",
     "iopub.status.idle": "2021-07-18T07:22:27.718507Z",
     "shell.execute_reply": "2021-07-18T07:22:27.719051Z",
     "shell.execute_reply.started": "2021-07-18T07:18:14.519620Z"
    },
    "papermill": {
     "duration": 0.580812,
     "end_time": "2021-07-18T07:22:27.719277",
     "exception": false,
     "start_time": "2021-07-18T07:22:27.138465",
     "status": "completed"
    },
    "tags": []
   },
   "outputs": [],
   "source": [
    "from sklearn.model_selection import train_test_split\n",
    "from sklearn.metrics import mean_squared_log_error,mean_absolute_error"
   ]
  },
  {
   "cell_type": "code",
   "execution_count": 61,
   "id": "greenhouse-recipe",
   "metadata": {
    "execution": {
     "iopub.execute_input": "2021-07-18T07:22:27.926127Z",
     "iopub.status.busy": "2021-07-18T07:22:27.925506Z",
     "iopub.status.idle": "2021-07-18T07:22:27.929248Z",
     "shell.execute_reply": "2021-07-18T07:22:27.929799Z",
     "shell.execute_reply.started": "2021-07-18T07:18:14.528842Z"
    },
    "papermill": {
     "duration": 0.108911,
     "end_time": "2021-07-18T07:22:27.929955",
     "exception": false,
     "start_time": "2021-07-18T07:22:27.821044",
     "status": "completed"
    },
    "tags": []
   },
   "outputs": [],
   "source": [
    "from sklearn.preprocessing import StandardScaler\n",
    "ss=StandardScaler()"
   ]
  },
  {
   "cell_type": "code",
   "execution_count": 62,
   "id": "patent-snake",
   "metadata": {
    "execution": {
     "iopub.execute_input": "2021-07-18T07:22:28.138588Z",
     "iopub.status.busy": "2021-07-18T07:22:28.137922Z",
     "iopub.status.idle": "2021-07-18T07:22:28.151416Z",
     "shell.execute_reply": "2021-07-18T07:22:28.151945Z",
     "shell.execute_reply.started": "2021-07-18T07:18:14.542321Z"
    },
    "papermill": {
     "duration": 0.119713,
     "end_time": "2021-07-18T07:22:28.152113",
     "exception": false,
     "start_time": "2021-07-18T07:22:28.032400",
     "status": "completed"
    },
    "tags": []
   },
   "outputs": [],
   "source": [
    "x=df_enc.drop('Price',axis=1)\n",
    "y=df_enc['Price']\n",
    "df_test=df_test.drop('Price',axis=1)"
   ]
  },
  {
   "cell_type": "code",
   "execution_count": 63,
   "id": "widespread-junior",
   "metadata": {
    "execution": {
     "iopub.execute_input": "2021-07-18T07:22:28.365416Z",
     "iopub.status.busy": "2021-07-18T07:22:28.364700Z",
     "iopub.status.idle": "2021-07-18T07:22:28.382199Z",
     "shell.execute_reply": "2021-07-18T07:22:28.381534Z",
     "shell.execute_reply.started": "2021-07-18T07:18:14.561592Z"
    },
    "papermill": {
     "duration": 0.127241,
     "end_time": "2021-07-18T07:22:28.382371",
     "exception": false,
     "start_time": "2021-07-18T07:22:28.255130",
     "status": "completed"
    },
    "tags": []
   },
   "outputs": [],
   "source": [
    "x_scaled=pd.DataFrame(ss.fit_transform(x),columns=x.columns)"
   ]
  },
  {
   "cell_type": "code",
   "execution_count": 64,
   "id": "together-confidence",
   "metadata": {
    "execution": {
     "iopub.execute_input": "2021-07-18T07:23:48.581431Z",
     "iopub.status.busy": "2021-07-18T07:23:48.580388Z",
     "iopub.status.idle": "2021-07-18T07:23:48.586014Z",
     "shell.execute_reply": "2021-07-18T07:23:48.585512Z",
     "shell.execute_reply.started": "2021-07-18T07:19:29.774172Z"
    },
    "papermill": {
     "duration": 0.121431,
     "end_time": "2021-07-18T07:23:48.586201",
     "exception": false,
     "start_time": "2021-07-18T07:23:48.464770",
     "status": "completed"
    },
    "tags": []
   },
   "outputs": [],
   "source": [
    "df_test['Cylinders']=df_test['Cylinders'].fillna(df_test['Cylinders'].mode()[0])\n",
    "df_test['Manufacturer']=df_test['Manufacturer'].fillna(df_test['Manufacturer'].mode()[0])"
   ]
  },
  {
   "cell_type": "code",
   "execution_count": 65,
   "id": "critical-denial",
   "metadata": {
    "execution": {
     "iopub.execute_input": "2021-07-18T07:23:48.812839Z",
     "iopub.status.busy": "2021-07-18T07:23:48.812124Z",
     "iopub.status.idle": "2021-07-18T07:23:48.819052Z",
     "shell.execute_reply": "2021-07-18T07:23:48.819579Z",
     "shell.execute_reply.started": "2021-07-18T07:19:29.782733Z"
    },
    "papermill": {
     "duration": 0.1238,
     "end_time": "2021-07-18T07:23:48.819751",
     "exception": false,
     "start_time": "2021-07-18T07:23:48.695951",
     "status": "completed"
    },
    "tags": []
   },
   "outputs": [],
   "source": [
    "test_scaled=pd.DataFrame(ss.fit_transform(df_test),columns=df_test.columns)"
   ]
  },
  {
   "cell_type": "code",
   "execution_count": 85,
   "id": "stunning-paragraph",
   "metadata": {
    "execution": {
     "iopub.execute_input": "2021-07-18T07:23:49.488127Z",
     "iopub.status.busy": "2021-07-18T07:23:49.487526Z",
     "iopub.status.idle": "2021-07-18T07:23:49.491404Z",
     "shell.execute_reply": "2021-07-18T07:23:49.491912Z",
     "shell.execute_reply.started": "2021-07-18T07:19:30.026110Z"
    },
    "papermill": {
     "duration": 0.117921,
     "end_time": "2021-07-18T07:23:49.492072",
     "exception": false,
     "start_time": "2021-07-18T07:23:49.374151",
     "status": "completed"
    },
    "tags": []
   },
   "outputs": [
    {
     "data": {
      "text/html": [
       "<div>\n",
       "<style scoped>\n",
       "    .dataframe tbody tr th:only-of-type {\n",
       "        vertical-align: middle;\n",
       "    }\n",
       "\n",
       "    .dataframe tbody tr th {\n",
       "        vertical-align: top;\n",
       "    }\n",
       "\n",
       "    .dataframe thead th {\n",
       "        text-align: right;\n",
       "    }\n",
       "</style>\n",
       "<table border=\"1\" class=\"dataframe\">\n",
       "  <thead>\n",
       "    <tr style=\"text-align: right;\">\n",
       "      <th></th>\n",
       "      <th>Unnamed: 0</th>\n",
       "      <th>Price</th>\n",
       "    </tr>\n",
       "  </thead>\n",
       "  <tbody>\n",
       "    <tr>\n",
       "      <th>0</th>\n",
       "      <td>0</td>\n",
       "      <td>20840.162</td>\n",
       "    </tr>\n",
       "    <tr>\n",
       "      <th>1</th>\n",
       "      <td>1</td>\n",
       "      <td>14177.389</td>\n",
       "    </tr>\n",
       "    <tr>\n",
       "      <th>2</th>\n",
       "      <td>2</td>\n",
       "      <td>7748.245</td>\n",
       "    </tr>\n",
       "    <tr>\n",
       "      <th>3</th>\n",
       "      <td>3</td>\n",
       "      <td>2239.069</td>\n",
       "    </tr>\n",
       "    <tr>\n",
       "      <th>4</th>\n",
       "      <td>4</td>\n",
       "      <td>5352.356</td>\n",
       "    </tr>\n",
       "  </tbody>\n",
       "</table>\n",
       "</div>"
      ],
      "text/plain": [
       "   Unnamed: 0      Price\n",
       "0           0  20840.162\n",
       "1           1  14177.389\n",
       "2           2   7748.245\n",
       "3           3   2239.069\n",
       "4           4   5352.356"
      ]
     },
     "execution_count": 85,
     "metadata": {},
     "output_type": "execute_result"
    }
   ],
   "source": [
    "sample=pd.read_csv('sample_submission.csv')\n",
    "sample.head()"
   ]
  },
  {
   "cell_type": "markdown",
   "id": "ae5a6ebb",
   "metadata": {
    "papermill": {
     "duration": 0.110595,
     "end_time": "2021-07-18T07:23:50.437362",
     "exception": false,
     "start_time": "2021-07-18T07:23:50.326767",
     "status": "completed"
    },
    "tags": []
   },
   "source": [
    "## ANN with keras-tuner"
   ]
  },
  {
   "cell_type": "code",
   "execution_count": 67,
   "id": "67fdf156",
   "metadata": {},
   "outputs": [],
   "source": [
    "X_train,X_test,y_train,y_test=train_test_split(x_scaled,y,test_size=0.25,random_state=10)"
   ]
  },
  {
   "cell_type": "code",
   "execution_count": 68,
   "id": "baa8b159",
   "metadata": {},
   "outputs": [
    {
     "name": "stderr",
     "output_type": "stream",
     "text": [
      "<ipython-input-68-454723b13226>:8: DeprecationWarning: `import kerastuner` is deprecated, please use `import keras_tuner`.\n",
      "  from kerastuner.tuners import RandomSearch\n"
     ]
    }
   ],
   "source": [
    "import keras\n",
    "from keras.models import Sequential\n",
    "from keras.layers import Dense\n",
    "from keras.layers import LeakyReLU,PReLU,ELU\n",
    "from keras.layers import Dropout\n",
    "from tensorflow import keras\n",
    "from tensorflow.keras import layers\n",
    "from kerastuner.tuners import RandomSearch"
   ]
  },
  {
   "cell_type": "code",
   "execution_count": 69,
   "id": "704d965e",
   "metadata": {},
   "outputs": [
    {
     "data": {
      "text/plain": [
       "(19237, 16)"
      ]
     },
     "execution_count": 69,
     "metadata": {},
     "output_type": "execute_result"
    }
   ],
   "source": [
    "x.shape"
   ]
  },
  {
   "cell_type": "code",
   "execution_count": 70,
   "id": "d2587ed8",
   "metadata": {},
   "outputs": [],
   "source": [
    "#function for identifying potential number of layers and neurons\n",
    "def build_model(hp):\n",
    "    model = keras.Sequential()\n",
    "    for i in range(hp.Int('num_layers', 2, 20)):\n",
    "        model.add(layers.Dense(units=hp.Int('units_' + str(i),\n",
    "                                            min_value=10,\n",
    "                                            max_value=1000,\n",
    "                                            step=32),\n",
    "                               activation='relu'))\n",
    "    model.add(layers.Dense(1, activation='linear'))\n",
    "    model.compile(\n",
    "        optimizer=keras.optimizers.Adam(\n",
    "            hp.Choice('learning_rate', [1e-2, 1e-3, 1e-4])),\n",
    "        loss='mean_absolute_error',\n",
    "        metrics=['mean_absolute_error'])\n",
    "    return model"
   ]
  },
  {
   "cell_type": "code",
   "execution_count": 71,
   "id": "d5175470",
   "metadata": {},
   "outputs": [
    {
     "name": "stdout",
     "output_type": "stream",
     "text": [
      "INFO:tensorflow:Reloading Oracle from existing project project\\Air Quality Index\\oracle.json\n",
      "INFO:tensorflow:Reloading Tuner from project\\Air Quality Index\\tuner0.json\n"
     ]
    }
   ],
   "source": [
    "#using randomsearch from kerastuner\n",
    "tuner = RandomSearch(\n",
    "    build_model,\n",
    "    objective='val_mean_absolute_error',\n",
    "    max_trials=5,\n",
    "    executions_per_trial=3,\n",
    "    directory='project',\n",
    "    project_name='Air Quality Index')"
   ]
  },
  {
   "cell_type": "code",
   "execution_count": 72,
   "id": "eb1959f7",
   "metadata": {
    "scrolled": false
   },
   "outputs": [
    {
     "name": "stdout",
     "output_type": "stream",
     "text": [
      "Search space summary\n",
      "Default search space size: 14\n",
      "num_layers (Int)\n",
      "{'default': None, 'conditions': [], 'min_value': 2, 'max_value': 20, 'step': 1, 'sampling': None}\n",
      "units_0 (Int)\n",
      "{'default': None, 'conditions': [], 'min_value': 32, 'max_value': 512, 'step': 32, 'sampling': None}\n",
      "units_1 (Int)\n",
      "{'default': None, 'conditions': [], 'min_value': 32, 'max_value': 512, 'step': 32, 'sampling': None}\n",
      "learning_rate (Choice)\n",
      "{'default': 0.01, 'conditions': [], 'values': [0.01, 0.001, 0.0001], 'ordered': True}\n",
      "units_2 (Int)\n",
      "{'default': None, 'conditions': [], 'min_value': 32, 'max_value': 512, 'step': 32, 'sampling': None}\n",
      "units_3 (Int)\n",
      "{'default': None, 'conditions': [], 'min_value': 32, 'max_value': 512, 'step': 32, 'sampling': None}\n",
      "units_4 (Int)\n",
      "{'default': None, 'conditions': [], 'min_value': 32, 'max_value': 512, 'step': 32, 'sampling': None}\n",
      "units_5 (Int)\n",
      "{'default': None, 'conditions': [], 'min_value': 32, 'max_value': 512, 'step': 32, 'sampling': None}\n",
      "units_6 (Int)\n",
      "{'default': None, 'conditions': [], 'min_value': 32, 'max_value': 512, 'step': 32, 'sampling': None}\n",
      "units_7 (Int)\n",
      "{'default': None, 'conditions': [], 'min_value': 32, 'max_value': 512, 'step': 32, 'sampling': None}\n",
      "units_8 (Int)\n",
      "{'default': None, 'conditions': [], 'min_value': 32, 'max_value': 512, 'step': 32, 'sampling': None}\n",
      "units_9 (Int)\n",
      "{'default': None, 'conditions': [], 'min_value': 32, 'max_value': 512, 'step': 32, 'sampling': None}\n",
      "units_10 (Int)\n",
      "{'default': None, 'conditions': [], 'min_value': 32, 'max_value': 512, 'step': 32, 'sampling': None}\n",
      "units_11 (Int)\n",
      "{'default': None, 'conditions': [], 'min_value': 32, 'max_value': 512, 'step': 32, 'sampling': None}\n"
     ]
    }
   ],
   "source": [
    "tuner.search_space_summary()"
   ]
  },
  {
   "cell_type": "code",
   "execution_count": 73,
   "id": "32439339",
   "metadata": {},
   "outputs": [
    {
     "name": "stdout",
     "output_type": "stream",
     "text": [
      "INFO:tensorflow:Oracle triggered exit\n"
     ]
    }
   ],
   "source": [
    "#finding suitable neural network for the dataset\n",
    "tuner.search(X_train, y_train,\n",
    "             epochs=5,\n",
    "             validation_data=(X_test, y_test))"
   ]
  },
  {
   "cell_type": "code",
   "execution_count": 74,
   "id": "f1170103",
   "metadata": {
    "scrolled": true
   },
   "outputs": [
    {
     "name": "stdout",
     "output_type": "stream",
     "text": [
      "Results summary\n",
      "Results in project\\Air Quality Index\n",
      "Showing 10 best trials\n",
      "Objective(name='val_mean_absolute_error', direction='min')\n",
      "Trial summary\n",
      "Hyperparameters:\n",
      "num_layers: 5\n",
      "units_0: 480\n",
      "units_1: 96\n",
      "learning_rate: 0.01\n",
      "units_2: 320\n",
      "units_3: 512\n",
      "units_4: 96\n",
      "Score: 5048.947916666667\n",
      "Trial summary\n",
      "Hyperparameters:\n",
      "num_layers: 5\n",
      "units_0: 416\n",
      "units_1: 128\n",
      "learning_rate: 0.01\n",
      "units_2: 32\n",
      "units_3: 32\n",
      "units_4: 32\n",
      "Score: 5326.429850260417\n",
      "Trial summary\n",
      "Hyperparameters:\n",
      "num_layers: 3\n",
      "units_0: 352\n",
      "units_1: 64\n",
      "learning_rate: 0.01\n",
      "units_2: 160\n",
      "units_3: 512\n",
      "units_4: 384\n",
      "units_5: 256\n",
      "units_6: 160\n",
      "units_7: 352\n",
      "units_8: 256\n",
      "units_9: 320\n",
      "units_10: 448\n",
      "units_11: 384\n",
      "Score: 5330.5751953125\n",
      "Trial summary\n",
      "Hyperparameters:\n",
      "num_layers: 12\n",
      "units_0: 320\n",
      "units_1: 192\n",
      "learning_rate: 0.01\n",
      "units_2: 512\n",
      "units_3: 288\n",
      "units_4: 512\n",
      "units_5: 32\n",
      "units_6: 32\n",
      "units_7: 32\n",
      "units_8: 32\n",
      "units_9: 32\n",
      "units_10: 32\n",
      "units_11: 32\n",
      "Score: 5343.669270833333\n",
      "Trial summary\n",
      "Hyperparameters:\n",
      "num_layers: 7\n",
      "units_0: 256\n",
      "units_1: 320\n",
      "learning_rate: 0.0001\n",
      "units_2: 256\n",
      "units_3: 192\n",
      "units_4: 64\n",
      "units_5: 224\n",
      "units_6: 352\n",
      "units_7: 224\n",
      "units_8: 128\n",
      "units_9: 320\n",
      "units_10: 192\n",
      "units_11: 288\n",
      "Score: 5684.5068359375\n"
     ]
    }
   ],
   "source": [
    "#tunning summary\n",
    "tuner.results_summary()"
   ]
  },
  {
   "cell_type": "code",
   "execution_count": 75,
   "id": "35712cb4",
   "metadata": {
    "scrolled": true
   },
   "outputs": [],
   "source": [
    "#building neural network\n",
    "model = Sequential()\n",
    "\n",
    "# Adding the input layer and the first hidden layer\n",
    "model.add(Dense(480,activation='relu',input_dim = 16))\n",
    "# Adding hidden layer\n",
    "model.add(Dense(96, activation='relu'))\n",
    "model.add(Dense(320, activation='relu'))\n",
    "model.add(Dropout(0.22)) ##adding dropout to avoid overfitting\n",
    "model.add(Dense(512, activation='relu'))\n",
    "\n",
    "model.add(Dense(96, activation='relu'))\n",
    "# Adding the output layer\n",
    "model.add(Dense(1,activation='linear'))\n",
    "\n",
    "# Compiling the ANN\n",
    "model.compile(\n",
    "        optimizer=keras.optimizers.Adagrad(\n",
    "            learning_rate=0.01),loss='mean_absolute_error',metrics=['mean_absolute_error'])"
   ]
  },
  {
   "cell_type": "code",
   "execution_count": 76,
   "id": "06e8302f",
   "metadata": {
    "scrolled": true
   },
   "outputs": [
    {
     "name": "stdout",
     "output_type": "stream",
     "text": [
      "Epoch 1/120\n",
      "300/300 [==============================] - 2s 6ms/step - loss: 7544.4155 - mean_absolute_error: 7544.4155 - val_loss: 6079.2695 - val_mean_absolute_error: 6079.2695\n",
      "Epoch 2/120\n",
      "300/300 [==============================] - 1s 4ms/step - loss: 5780.4956 - mean_absolute_error: 5780.4956 - val_loss: 5589.0449 - val_mean_absolute_error: 5589.0449\n",
      "Epoch 3/120\n",
      "300/300 [==============================] - 1s 4ms/step - loss: 5495.3501 - mean_absolute_error: 5495.3501 - val_loss: 5720.1045 - val_mean_absolute_error: 5720.1045\n",
      "Epoch 4/120\n",
      "300/300 [==============================] - 1s 5ms/step - loss: 5384.1636 - mean_absolute_error: 5384.1636 - val_loss: 5362.6460 - val_mean_absolute_error: 5362.6460\n",
      "Epoch 5/120\n",
      "300/300 [==============================] - 1s 4ms/step - loss: 5285.9473 - mean_absolute_error: 5285.9473 - val_loss: 5426.8989 - val_mean_absolute_error: 5426.8989\n",
      "Epoch 6/120\n",
      "300/300 [==============================] - 1s 5ms/step - loss: 5226.5908 - mean_absolute_error: 5226.5908 - val_loss: 5239.9087 - val_mean_absolute_error: 5239.9087\n",
      "Epoch 7/120\n",
      "300/300 [==============================] - 1s 4ms/step - loss: 5170.1240 - mean_absolute_error: 5170.1245 - val_loss: 5203.4399 - val_mean_absolute_error: 5203.4399\n",
      "Epoch 8/120\n",
      "300/300 [==============================] - 1s 5ms/step - loss: 5136.0679 - mean_absolute_error: 5136.0679 - val_loss: 5185.8408 - val_mean_absolute_error: 5185.8408\n",
      "Epoch 9/120\n",
      "300/300 [==============================] - 1s 4ms/step - loss: 5092.8066 - mean_absolute_error: 5092.8066 - val_loss: 5301.3945 - val_mean_absolute_error: 5301.3945\n",
      "Epoch 10/120\n",
      "300/300 [==============================] - 1s 4ms/step - loss: 5047.0054 - mean_absolute_error: 5047.0054 - val_loss: 5111.6875 - val_mean_absolute_error: 5111.6875\n",
      "Epoch 11/120\n",
      "300/300 [==============================] - 1s 4ms/step - loss: 5027.6846 - mean_absolute_error: 5027.6846 - val_loss: 5167.0063 - val_mean_absolute_error: 5167.0063\n",
      "Epoch 12/120\n",
      "300/300 [==============================] - 1s 4ms/step - loss: 5001.5947 - mean_absolute_error: 5001.5947 - val_loss: 5099.6021 - val_mean_absolute_error: 5099.6021\n",
      "Epoch 13/120\n",
      "300/300 [==============================] - 1s 4ms/step - loss: 4965.5688 - mean_absolute_error: 4965.5688 - val_loss: 5084.6064 - val_mean_absolute_error: 5084.6064\n",
      "Epoch 14/120\n",
      "300/300 [==============================] - 2s 5ms/step - loss: 4934.8535 - mean_absolute_error: 4934.8535 - val_loss: 5209.6533 - val_mean_absolute_error: 5209.6533\n",
      "Epoch 15/120\n",
      "300/300 [==============================] - 1s 4ms/step - loss: 4910.1128 - mean_absolute_error: 4910.1128 - val_loss: 5101.9590 - val_mean_absolute_error: 5101.9590\n",
      "Epoch 16/120\n",
      "300/300 [==============================] - 1s 5ms/step - loss: 4902.7700 - mean_absolute_error: 4902.7700 - val_loss: 5043.8765 - val_mean_absolute_error: 5043.8765\n",
      "Epoch 17/120\n",
      "300/300 [==============================] - 2s 5ms/step - loss: 4872.6890 - mean_absolute_error: 4872.6890 - val_loss: 4983.8882 - val_mean_absolute_error: 4983.8882\n",
      "Epoch 18/120\n",
      "300/300 [==============================] - 2s 6ms/step - loss: 4858.1729 - mean_absolute_error: 4858.1729 - val_loss: 4975.0801 - val_mean_absolute_error: 4975.0801\n",
      "Epoch 19/120\n",
      "300/300 [==============================] - 2s 6ms/step - loss: 4834.4165 - mean_absolute_error: 4834.4165 - val_loss: 5001.6621 - val_mean_absolute_error: 5001.6621\n",
      "Epoch 20/120\n",
      "300/300 [==============================] - 2s 6ms/step - loss: 4806.7671 - mean_absolute_error: 4806.7671 - val_loss: 4971.7690 - val_mean_absolute_error: 4971.7690\n",
      "Epoch 21/120\n",
      "300/300 [==============================] - 2s 6ms/step - loss: 4789.2739 - mean_absolute_error: 4789.2739 - val_loss: 5062.9082 - val_mean_absolute_error: 5062.9082\n",
      "Epoch 22/120\n",
      "300/300 [==============================] - 2s 6ms/step - loss: 4769.3760 - mean_absolute_error: 4769.3755 - val_loss: 4978.6211 - val_mean_absolute_error: 4978.6211\n",
      "Epoch 23/120\n",
      "300/300 [==============================] - 2s 6ms/step - loss: 4763.8857 - mean_absolute_error: 4763.8857 - val_loss: 4977.5781 - val_mean_absolute_error: 4977.5791\n"
     ]
    }
   ],
   "source": [
    "#applying earlystopping method to terminate training when overfitting\n",
    "model_history=model.fit(x_scaled, y,validation_split=0.3,epochs=120,batch_size=45,callbacks=keras.callbacks.EarlyStopping(patience=3))"
   ]
  },
  {
   "cell_type": "code",
   "execution_count": 77,
   "id": "238586ed",
   "metadata": {},
   "outputs": [],
   "source": [
    "prediction=model.predict(test_scaled)"
   ]
  },
  {
   "cell_type": "code",
   "execution_count": 86,
   "id": "0b1845ea",
   "metadata": {},
   "outputs": [],
   "source": [
    "sample['Price']= prediction"
   ]
  },
  {
   "cell_type": "code",
   "execution_count": 87,
   "id": "a97d4b5a",
   "metadata": {},
   "outputs": [
    {
     "data": {
      "text/html": [
       "<div>\n",
       "<style scoped>\n",
       "    .dataframe tbody tr th:only-of-type {\n",
       "        vertical-align: middle;\n",
       "    }\n",
       "\n",
       "    .dataframe tbody tr th {\n",
       "        vertical-align: top;\n",
       "    }\n",
       "\n",
       "    .dataframe thead th {\n",
       "        text-align: right;\n",
       "    }\n",
       "</style>\n",
       "<table border=\"1\" class=\"dataframe\">\n",
       "  <thead>\n",
       "    <tr style=\"text-align: right;\">\n",
       "      <th></th>\n",
       "      <th>Unnamed: 0</th>\n",
       "      <th>Price</th>\n",
       "    </tr>\n",
       "  </thead>\n",
       "  <tbody>\n",
       "    <tr>\n",
       "      <th>0</th>\n",
       "      <td>0</td>\n",
       "      <td>17898.304688</td>\n",
       "    </tr>\n",
       "    <tr>\n",
       "      <th>1</th>\n",
       "      <td>1</td>\n",
       "      <td>20542.695312</td>\n",
       "    </tr>\n",
       "    <tr>\n",
       "      <th>2</th>\n",
       "      <td>2</td>\n",
       "      <td>7199.078613</td>\n",
       "    </tr>\n",
       "    <tr>\n",
       "      <th>3</th>\n",
       "      <td>3</td>\n",
       "      <td>3646.322266</td>\n",
       "    </tr>\n",
       "    <tr>\n",
       "      <th>4</th>\n",
       "      <td>4</td>\n",
       "      <td>3047.301514</td>\n",
       "    </tr>\n",
       "    <tr>\n",
       "      <th>...</th>\n",
       "      <td>...</td>\n",
       "      <td>...</td>\n",
       "    </tr>\n",
       "    <tr>\n",
       "      <th>8240</th>\n",
       "      <td>8240</td>\n",
       "      <td>8024.749512</td>\n",
       "    </tr>\n",
       "    <tr>\n",
       "      <th>8241</th>\n",
       "      <td>8241</td>\n",
       "      <td>29374.720703</td>\n",
       "    </tr>\n",
       "    <tr>\n",
       "      <th>8242</th>\n",
       "      <td>8242</td>\n",
       "      <td>2410.547363</td>\n",
       "    </tr>\n",
       "    <tr>\n",
       "      <th>8243</th>\n",
       "      <td>8243</td>\n",
       "      <td>21004.648438</td>\n",
       "    </tr>\n",
       "    <tr>\n",
       "      <th>8244</th>\n",
       "      <td>8244</td>\n",
       "      <td>3816.222900</td>\n",
       "    </tr>\n",
       "  </tbody>\n",
       "</table>\n",
       "<p>8245 rows × 2 columns</p>\n",
       "</div>"
      ],
      "text/plain": [
       "      Unnamed: 0         Price\n",
       "0              0  17898.304688\n",
       "1              1  20542.695312\n",
       "2              2   7199.078613\n",
       "3              3   3646.322266\n",
       "4              4   3047.301514\n",
       "...          ...           ...\n",
       "8240        8240   8024.749512\n",
       "8241        8241  29374.720703\n",
       "8242        8242   2410.547363\n",
       "8243        8243  21004.648438\n",
       "8244        8244   3816.222900\n",
       "\n",
       "[8245 rows x 2 columns]"
      ]
     },
     "execution_count": 87,
     "metadata": {},
     "output_type": "execute_result"
    }
   ],
   "source": [
    "sample"
   ]
  },
  {
   "cell_type": "code",
   "execution_count": null,
   "id": "04c52fea",
   "metadata": {},
   "outputs": [],
   "source": []
  }
 ],
 "metadata": {
  "kernelspec": {
   "display_name": "Python 3",
   "language": "python",
   "name": "python3"
  },
  "language_info": {
   "codemirror_mode": {
    "name": "ipython",
    "version": 3
   },
   "file_extension": ".py",
   "mimetype": "text/x-python",
   "name": "python",
   "nbconvert_exporter": "python",
   "pygments_lexer": "ipython3",
   "version": "3.8.8"
  },
  "papermill": {
   "default_parameters": {},
   "duration": 117.077057,
   "end_time": "2021-07-18T07:23:51.358511",
   "environment_variables": {},
   "exception": null,
   "input_path": "__notebook__.ipynb",
   "output_path": "__notebook__.ipynb",
   "parameters": {},
   "start_time": "2021-07-18T07:21:54.281454",
   "version": "2.3.3"
  }
 },
 "nbformat": 4,
 "nbformat_minor": 5
}
